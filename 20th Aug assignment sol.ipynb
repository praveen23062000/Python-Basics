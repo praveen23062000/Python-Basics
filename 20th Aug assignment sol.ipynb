{
 "cells": [
  {
   "cell_type": "code",
   "execution_count": 3,
   "id": "05feb24f-f970-4bd7-89a9-87ecd6a4462a",
   "metadata": {},
   "outputs": [
    {
     "name": "stdout",
     "output_type": "stream",
     "text": [
      "!dlroW ,olleH\n"
     ]
    }
   ],
   "source": [
    "#1. Write a program to reverse a string.\n",
    "\n",
    "def reverse_string(input_string):\n",
    "    \n",
    "\n",
    "    reversed_string = \"\"\n",
    "    \n",
    "\n",
    "    for char in input_string:\n",
    "        \n",
    "\n",
    "        reversed_string = char + reversed_string\n",
    "     \n",
    "\n",
    "    return reversed_string\n",
    "input_str = \"Hello, World!\"\n",
    "reversed_str = reverse_string(input_str)\n",
    "print(reversed_str)"
   ]
  },
  {
   "cell_type": "code",
   "execution_count": 4,
   "id": "20f1613e-0bdb-4c73-9159-0a1d55ebc574",
   "metadata": {},
   "outputs": [
    {
     "name": "stdout",
     "output_type": "stream",
     "text": [
      "True\n",
      "False\n",
      "True\n"
     ]
    }
   ],
   "source": [
    "#2. Check if a string is a palindrome.\n",
    "\n",
    "\n",
    "def is_palindrome(s):\n",
    "    \n",
    "    s = s.lower()\n",
    "\n",
    "    \n",
    "    s = ''.join(e for e in s if e.isalnum())\n",
    "\n",
    "   \n",
    "    return s == s[::-1]\n",
    "def is_palindrome(s):\n",
    " \n",
    "    s = s.lower()\n",
    "\n",
    " \n",
    "    s = ''.join(e for e in s if e.isalnum())\n",
    "\n",
    "    \n",
    "    return s == s[::-1]\n",
    "print(is_palindrome(\"racecar\"))\n",
    "print(is_palindrome(\"hello\"))\n",
    "print(is_palindrome(\"A man, a plan, a canal, Panama\"))"
   ]
  },
  {
   "cell_type": "code",
   "execution_count": 5,
   "id": "74aa82f6-2960-4925-be69-533830257bab",
   "metadata": {},
   "outputs": [
    {
     "name": "stdin",
     "output_type": "stream",
     "text": [
      "Enter a string:  dfdfgsdg\n"
     ]
    },
    {
     "name": "stdout",
     "output_type": "stream",
     "text": [
      "Uppercase string: DFDFGSDG\n"
     ]
    }
   ],
   "source": [
    "#3. Convert a string to uppercase.\n",
    "\n",
    "input_string = input(\"Enter a string: \")\n",
    "\n",
    "uppercase_string = input_string.upper()\n",
    "\n",
    "print(\"Uppercase string:\", uppercase_string)"
   ]
  },
  {
   "cell_type": "code",
   "execution_count": null,
   "id": "c78a0db2-273f-46d5-b07d-8faaefe12778",
   "metadata": {},
   "outputs": [],
   "source": [
    "#4. Convert a string to lowercase.\n",
    "\n",
    "input_string = input(\"Enter a string: \")\n",
    "\n",
    "lowercase_string = input_string.lower()\n",
    "\n",
    "print(\"Lowercase string:\", lowercase_string)"
   ]
  },
  {
   "cell_type": "code",
   "execution_count": 6,
   "id": "98e3736c-a3e0-4ffa-96be-6a3902d9424d",
   "metadata": {},
   "outputs": [
    {
     "name": "stdout",
     "output_type": "stream",
     "text": [
      "Number of vowels: 7\n"
     ]
    }
   ],
   "source": [
    "#5. Count the number of vowels in a string.\n",
    "def count_vowels(string):\n",
    "    \n",
    "    vowel_count = 0\n",
    "\n",
    "    string = string.lower()\n",
    "\n",
    "    vowels = set(\"aeiou\")\n",
    "\n",
    "    for char in string:\n",
    "        \n",
    "        if char in vowels:\n",
    "         \n",
    "            vowel_count += 1\n",
    "\n",
    "    \n",
    "    return vowel_count\n",
    "\n",
    "\n",
    "input_string = \"Hello, how are you?\"\n",
    "result = count_vowels(input_string)\n",
    "print(\"Number of vowels:\", result)"
   ]
  },
  {
   "cell_type": "code",
   "execution_count": 7,
   "id": "bf28ae7c-6aba-4b85-9a19-51aaf1ebc3cb",
   "metadata": {},
   "outputs": [
    {
     "name": "stdin",
     "output_type": "stream",
     "text": [
      "Enter a string:  gfdghdfy\n"
     ]
    },
    {
     "name": "stdout",
     "output_type": "stream",
     "text": [
      "Number of consonants: 8\n"
     ]
    }
   ],
   "source": [
    "#6. Count the number of consonants in a string.\n",
    "def count_consonants(string):\n",
    "   \n",
    "    consonant_count = 0\n",
    "\n",
    " \n",
    "    consonants = \"bcdfghjklmnpqrstvwxyzBCDFGHJKLMNPQRSTVWXYZ\"\n",
    "\n",
    "    for char in string:\n",
    "        \n",
    "        if char in consonants:\n",
    "           \n",
    "            consonant_count += 1\n",
    "\n",
    "    return consonant_count\n",
    "\n",
    "input_string = input(\"Enter a string: \")\n",
    "result = count_consonants(input_string)\n",
    "print(\"Number of consonants:\", result)"
   ]
  },
  {
   "cell_type": "code",
   "execution_count": null,
   "id": "8eb0947f-897c-4519-a550-549ba9d8e70e",
   "metadata": {},
   "outputs": [],
   "source": [
    "#7. Remove all whitespaces from a string.\n",
    "def remove_whitespace(input_string):\n",
    "    \n",
    "    result = \"\"\n",
    "\n",
    "    for char in input_string:\n",
    "       \n",
    "        if char != \" \":\n",
    "            \n",
    "            result += char\n",
    "\n",
    "    return result\n",
    "\n",
    "input_string = \"Hello   World!  How's   it   going?\"\n",
    "output_string = remove_whitespace(input_string)\n",
    "print(output_string)"
   ]
  },
  {
   "cell_type": "code",
   "execution_count": 8,
   "id": "1e65233a-f504-4aa8-a548-bd159bec01b6",
   "metadata": {},
   "outputs": [
    {
     "name": "stdout",
     "output_type": "stream",
     "text": [
      "The length of the string is: 7\n"
     ]
    }
   ],
   "source": [
    "#8. Find the length of a string without using the len() function.\n",
    "\n",
    "count = 0\n",
    "input_string=\"praveen\"\n",
    "for char in input_string: \n",
    "    count += 1\n",
    "\n",
    "print(\"The length of the string is:\", count)"
   ]
  },
  {
   "cell_type": "code",
   "execution_count": null,
   "id": "6d4bf21d-a471-4c4c-9284-4b8761437fa3",
   "metadata": {},
   "outputs": [],
   "source": [
    "9#. Check if a string contains a specific word.\n",
    "\n",
    "input_string = input(\"Enter a string: \")\n",
    "specific_word = input(\"Enter the specific word to check for: \")\n",
    "\n",
    "if specific_word in input_string:\n",
    "   \n",
    "    print(f\"The string contains the word '{specific_word}'.\")\n",
    "else:\n",
    "    \n",
    "    print(f\"The string does not contain the word '{specific_word}'.\")"
   ]
  },
  {
   "cell_type": "code",
   "execution_count": 9,
   "id": "6923b903-aa7e-4e83-b726-b0382d087241",
   "metadata": {},
   "outputs": [
    {
     "name": "stdin",
     "output_type": "stream",
     "text": [
      "Enter a sentence:  FGRGFSC G\n",
      "Enter the word to be replaced:  F\n",
      "Enter the new word:  U\n"
     ]
    },
    {
     "name": "stdout",
     "output_type": "stream",
     "text": [
      "Modified string: UGRGUSC G\n"
     ]
    }
   ],
   "source": [
    "#10. Replace a word in a string with another word.\n",
    "\n",
    "input_string = input(\"Enter a sentence: \")\n",
    "\n",
    "old_word = input(\"Enter the word to be replaced: \")\n",
    "new_word = input(\"Enter the new word: \")\n",
    "\n",
    "modified_string = input_string.replace(old_word, new_word)\n",
    "\n",
    "print(\"Modified string:\", modified_string)"
   ]
  },
  {
   "cell_type": "code",
   "execution_count": 10,
   "id": "abd3bfce-a408-4880-8195-00332323e69b",
   "metadata": {},
   "outputs": [
    {
     "name": "stdout",
     "output_type": "stream",
     "text": [
      "The word 'sample' appears None times in the input string.\n"
     ]
    }
   ],
   "source": [
    "#11. Count the occurrences of a word in a string.\n",
    "def count_word_occurrences(input_string, target_word):\n",
    "    \n",
    "    word_count = 0\n",
    "\n",
    "   \n",
    "    words = input_string.split()\n",
    "\n",
    "    for word in words:\n",
    "       \n",
    "        if word == target_word:\n",
    "          \n",
    "            word_count += 1\n",
    "\n",
    "\n",
    "input_string = \"This is a sample sentence. This sentence contains the word 'sample' multiple times.\"\n",
    "\n",
    "target_word = \"sample\"\n",
    "\n",
    "result = count_word_occurrences(input_string, target_word)\n",
    "print(f\"The word '{target_word}' appears {result} times in the input string.\")"
   ]
  },
  {
   "cell_type": "code",
   "execution_count": 11,
   "id": "9c9e127a-ed97-492b-94ca-da0f767cd8f6",
   "metadata": {},
   "outputs": [
    {
     "name": "stdout",
     "output_type": "stream",
     "text": [
      "Index of the first occurrence: 11\n"
     ]
    }
   ],
   "source": [
    "#12. Find the first occurrence of a word in a string.\n",
    "def find_first_occurrence(text, word):\n",
    "   \n",
    "    index = text.find(word)\n",
    "\n",
    "    if index == -1:\n",
    "        return None  \n",
    "\n",
    "    return index\n",
    "\n",
    "text = \"This is an example sentence. This sentence contains the word example.\"\n",
    "word = \"example\"\n",
    "result = find_first_occurrence(text, word)\n",
    "print(\"Index of the first occurrence:\", result)"
   ]
  },
  {
   "cell_type": "code",
   "execution_count": null,
   "id": "56a4eab0-380a-4ed3-92d5-3b37edd5ab72",
   "metadata": {},
   "outputs": [],
   "source": [
    "#13. Find the last occurrence of a word in a string.\n",
    "def find_last_occurrence(text, word):\n",
    "   \n",
    "    index = text.rfind(word)\n",
    "\n",
    "    if index == -1:\n",
    "        return None \n",
    "\n",
    "    return index\n",
    "\n",
    "text = \"This is an example sentence. This sentence also contains the word example.\"\n",
    "word = \"example\"\n",
    "result = find_last_occurrence(text, word)\n",
    "print(\"Index of the last occurrence:\", result)"
   ]
  },
  {
   "cell_type": "code",
   "execution_count": null,
   "id": "7936de05-b790-46ba-8ff4-a9eb7e30c8ea",
   "metadata": {},
   "outputs": [],
   "source": [
    "#14. Split a string into a list of words.\n",
    "def split_string_into_words(text):\n",
    "    \n",
    "    words_list = text.split()\n",
    "\n",
    "    return words_list\n",
    "\n",
    "text = \"This is an example sentence.\"\n",
    "words = split_string_into_words(text)\n",
    "print(\"List of words:\", words)"
   ]
  },
  {
   "cell_type": "code",
   "execution_count": null,
   "id": "5ee48326-fe56-4e54-8b87-2f491aa8485c",
   "metadata": {},
   "outputs": [],
   "source": [
    "#15. Join a list of words into a string.\n",
    "def join_words_into_string(words_list):\n",
    "   \n",
    "    joined_string = ' '.join(words_list)\n",
    "\n",
    "    return joined_string\n",
    "\n",
    "words = [\"This\", \"is\", \"an\", \"example\", \"sentence.\"]\n",
    "text = join_words_into_string(words)\n",
    "print(\"Joined string:\", text)"
   ]
  },
  {
   "cell_type": "code",
   "execution_count": null,
   "id": "b4f76a7b-b4e3-4a87-a287-009e1ee4b433",
   "metadata": {},
   "outputs": [],
   "source": [
    "#16. Convert a string where words are separated by spaces to one where words are separated by underscores.\n",
    "def convert_to_underscore_separated(text):\n",
    "   \n",
    "    underscore_separated = text.replace(\" \", \"_\")\n",
    "\n",
    "    return underscore_separated\n",
    "\n",
    "text = \"This is an example sentence.\"\n",
    "converted_text = convert_to_underscore_separated(text)\n",
    "print(\"Converted text:\", converted_text)"
   ]
  },
  {
   "cell_type": "code",
   "execution_count": null,
   "id": "008bb88f-e82a-4b2f-b089-3f2ca94bffd8",
   "metadata": {},
   "outputs": [],
   "source": [
    "#17. Check if a string starts with a specific word or phrase.\n",
    "def starts_with(text, prefix):\n",
    "    \n",
    "    is_start = text.startswith(prefix)\n",
    "\n",
    "    return is_start\n",
    "\n",
    "text = \"Hello, world!\"\n",
    "prefix = \"Hello\"\n",
    "result = starts_with(text, prefix)\n",
    "if result:\n",
    "    print(\"The text starts with the prefix.\")\n",
    "else:\n",
    "    print(\"The text does not start with the prefix.\")"
   ]
  },
  {
   "cell_type": "code",
   "execution_count": null,
   "id": "f3272332-251e-4bc4-94d8-bf285f265605",
   "metadata": {},
   "outputs": [],
   "source": [
    "#18. Check if a string ends with a specific word or phrase.\n",
    "def ends_with(text, suffix):\n",
    "   \n",
    "    is_end = text.endswith(suffix)\n",
    "\n",
    "    return is_end\n",
    "\n",
    "text = \"Hello, world!\"\n",
    "suffix = \"world!\"\n",
    "result = ends_with(text, suffix)\n",
    "if result:\n",
    "    print(\"The text ends with the suffix.\")\n",
    "else:\n",
    "    print(\"The text does not end with the suffix.\")"
   ]
  },
  {
   "cell_type": "code",
   "execution_count": null,
   "id": "88c0ec01-edcf-4747-8408-0644141c659f",
   "metadata": {},
   "outputs": [],
   "source": [
    "#19. Convert a string to title case (e.g., \"hello world\" to \"Hello World\").\n",
    "def convert_to_title_case(text):\n",
    "    \n",
    "    title_case_text = text.title()\n",
    "\n",
    "    return title_case_text\n",
    "\n",
    "text = \"hello world\"\n",
    "title_case_result = convert_to_title_case(text)\n",
    "print(\"Title case:\", title_case_result)"
   ]
  },
  {
   "cell_type": "code",
   "execution_count": null,
   "id": "5290da27-7a1b-4dd8-b87f-a64c585071e3",
   "metadata": {},
   "outputs": [],
   "source": [
    "#20. Find the longest word in a string.\n",
    "def find_longest_word(text):\n",
    "    \n",
    "    words = text.split()\n",
    "\n",
    "    longest_word = \"\"\n",
    "    max_length = 0\n",
    "\n",
    "    for word in words:\n",
    "        \n",
    "        if len(word) > max_length:\n",
    "            max_length = len(word)\n",
    "            longest_word = word\n",
    "\n",
    "    return longest_word\n",
    "\n",
    "text = \"This is an example sentence with some long words.\"\n",
    "longest_word = find_longest_word(text)\n",
    "print(\"Longest word:\", longest_word)"
   ]
  },
  {
   "cell_type": "code",
   "execution_count": null,
   "id": "51d547fe-9cab-4a17-990b-097b04287aec",
   "metadata": {},
   "outputs": [],
   "source": [
    "#21. Find the shortest word in a string.\n",
    "def find_shortest_word(text):\n",
    "   \n",
    "    words = text.split()\n",
    "\n",
    "    shortest_word = None\n",
    "    min_length = float('inf') \n",
    ".\n",
    "    for word in words:\n",
    "        \n",
    "        if len(word) < min_length:\n",
    "            min_length = len(word)\n",
    "            shortest_word = word\n",
    "\n",
    "    return shortest_word\n",
    "\n",
    "text = \"This is an example sentence with some short words.\"\n",
    "shortest_word = find_shortest_word(text)\n",
    "print(\"Shortest word:\", shortest_word)"
   ]
  },
  {
   "cell_type": "code",
   "execution_count": null,
   "id": "551741a0-1a7c-4bab-bb4e-46da9c87dac6",
   "metadata": {},
   "outputs": [],
   "source": [
    "#22. Reverse the order of words in a string.\n",
    "def find_shortest_word(text):\n",
    "    \n",
    "    words = text.split()\n",
    "\n",
    "    shortest_word = None\n",
    "    min_length = float('inf')  # Initialize to a large value\n",
    "\n",
    "    for word in words:\n",
    "        \n",
    "        if len(word) < min_length:\n",
    "            min_length = len(word)\n",
    "            shortest_word = word\n",
    "\n",
    "    return shortest_word\n",
    "\n",
    "text = \"This is an example sentence with some short words.\"\n",
    "shortest_word = find_shortest_word(text)\n",
    "print(\"Shortest word:\", shortest_word)"
   ]
  },
  {
   "cell_type": "code",
   "execution_count": null,
   "id": "370a8f38-0f26-4783-bba9-8936dad468d8",
   "metadata": {},
   "outputs": [],
   "source": [
    "#23. Check if a string is alphanumeric.\n",
    "def is_alphanumeric(text):\n",
    "    \n",
    "    return text.isalnum()\n",
    "\n",
    "text = \"Hello123\"\n",
    "result = is_alphanumeric(text)\n",
    "if result:\n",
    "    print(\"The string is alphanumeric.\")\n",
    "else:\n",
    "    print(\"The string is not alphanumeric.\")"
   ]
  },
  {
   "cell_type": "code",
   "execution_count": null,
   "id": "ce7d79f2-168f-4f0b-90f8-4d5daa0c09ad",
   "metadata": {},
   "outputs": [],
   "source": [
    "#24. Extract all digits from a string.\n",
    "def extract_digits(text):\n",
    "    \n",
    "    digits = \"\"\n",
    "\n",
    "    for char in text:\n",
    "        \n",
    "        if char.isdigit():\n",
    "          \n",
    "            digits += char\n",
    "\n",
    "    return digits\n",
    "\n",
    "text = \"Hello123World456\"\n",
    "extracted_digits = extract_digits(text)\n",
    "print(\"Extracted digits:\", extracted_digits)"
   ]
  },
  {
   "cell_type": "code",
   "execution_count": null,
   "id": "d7f004a7-926b-4265-a3bb-ab16aa775b8b",
   "metadata": {},
   "outputs": [],
   "source": [
    "#25. Extract all alphabets from a string.\n",
    "def extract_alphabets(input_string):\n",
    "    alphabets = ' '.join([char for char in input_string if char.isalpha()])\n",
    "    return alphabets\n",
    "\n",
    "input_string = \"Hello123World456\"\n",
    "result = extract_alphabets(input_string)\n",
    "print(result)"
   ]
  },
  {
   "cell_type": "code",
   "execution_count": null,
   "id": "4d8e7950-f4cd-47d3-9e5b-adb620108a2f",
   "metadata": {},
   "outputs": [],
   "source": [
    "#26. Count the number of uppercase letters in a string.\n",
    "def count_uppercase(input_string):\n",
    "    uppercase_count = sum(1 for char in input_string if char.isupper())\n",
    "    return uppercase_count\n",
    "\n",
    "input_string = \"HelloWORLD\"\n",
    "result = count_uppercase(input_string)\n",
    "print(result)"
   ]
  },
  {
   "cell_type": "code",
   "execution_count": null,
   "id": "2cff81c4-d763-46a3-a5e4-e6395088d3e6",
   "metadata": {},
   "outputs": [],
   "source": [
    "#27. Count the number of lowercase letters in a string.\n",
    "def count_lowercase(input_string):\n",
    "    lowercase_count = sum(1 for char in input_string if char.islower())\n",
    "    return lowercase_count\n",
    "\n",
    "input_string = \"HelloWORLD\"\n",
    "result = count_lowercase(input_string)\n",
    "print(result)"
   ]
  },
  {
   "cell_type": "code",
   "execution_count": null,
   "id": "7ce2f420-7d89-4d75-9732-9f94f7f31237",
   "metadata": {},
   "outputs": [],
   "source": [
    "#28. Swap the case of each character in a string.\n",
    "def swap_case(input_string):\n",
    "    swapped_string = input_string.swapcase()\n",
    "    return swapped_string\n",
    "\n",
    "input_string = \"HelloWORLD\"\n",
    "result = swap_case(input_string)\n",
    "print(result)"
   ]
  },
  {
   "cell_type": "code",
   "execution_count": null,
   "id": "7a0e1250-83a8-4623-a4df-4dfe7fbf2da3",
   "metadata": {},
   "outputs": [],
   "source": [
    "#29. Remove a specific word from a string.\n",
    "def remove_word(input_string, word_to_remove):\n",
    "    words = input_string.split()  \n",
    "    filtered_words = [word for word in words if word != word_to_remove]  \n",
    "    modified_string = ' '.join(filtered_words)  g\n",
    "    return modified_string\n",
    "\n",
    "input_string = \"Hello world, welcome to the world of programming.\"\n",
    "word_to_remove = \"world\"\n",
    "result = remove_word(input_string, word_to_remove)\n",
    "print(result)"
   ]
  },
  {
   "cell_type": "code",
   "execution_count": null,
   "id": "65ab92e3-4d08-452d-8079-e1a545bfacfa",
   "metadata": {},
   "outputs": [],
   "source": [
    "#30. Check if a string is a valid email address.\n",
    "import re  \n",
    "\n",
    "def is_valid_email(email):\n",
    "    pattern = r'^[\\w\\.-]+@[\\w\\.-]+\\.\\w+$'  \n",
    "    if re.match(pattern, email):\n",
    "        return True\n",
    "    else:\n",
    "        return False\n",
    "\n",
    "email1 = \"example@email.com\"\n",
    "email2 = \"invalid-email\"\n",
    "result1 = is_valid_email(email1)\n",
    "result2 = is_valid_email(email2)\n",
    "print(result1)\n",
    "print(result2)"
   ]
  },
  {
   "cell_type": "code",
   "execution_count": null,
   "id": "1c2b91dc-dc55-431b-b35d-bb2374f2ff30",
   "metadata": {},
   "outputs": [],
   "source": [
    "# 31. Extract the username from an email address string.\n",
    "def extract_username(email):\n",
    "    username = email.split('@')[0] \n",
    "    return username\n",
    "\n",
    "\n",
    "email = \"example@email.com\"\n",
    "result = extract_username(email)\n",
    "print(result)\n"
   ]
  },
  {
   "cell_type": "code",
   "execution_count": null,
   "id": "e7733af2-5ea0-48c1-acb3-0c0f56ecadc1",
   "metadata": {},
   "outputs": [],
   "source": [
    "#32. Extract the domain name from an email address string.\n",
    "def extract_domain(email):\n",
    "    domain = email.split('@')[1]  \n",
    "    return domain\n",
    "\n",
    "email = \"example@email.com\"\n",
    "result = extract_domain(email)\n",
    "print(result)"
   ]
  },
  {
   "cell_type": "code",
   "execution_count": null,
   "id": "a3029d96-2267-4195-99c9-9614cabf86b0",
   "metadata": {},
   "outputs": [],
   "source": [
    "33. Replace multiple spaces in a string with a single space.\n",
    "def replace_multiple_spaces(input_string):\n",
    "    cleaned_string = ' '.join(input_string.split())  \n",
    "    return cleaned_string\n",
    "\n",
    "input_string = \"Hello     world!   How   are   you?\"\n",
    "result = replace_multiple_spaces(input_string)\n",
    "print(result)"
   ]
  },
  {
   "cell_type": "code",
   "execution_count": null,
   "id": "160fee26-1c64-44a2-b384-a6a1ca686384",
   "metadata": {},
   "outputs": [],
   "source": [
    "#34. Check if a string is a valid URL.\n",
    "from urllib.parse import urlparse\n",
    "\n",
    "def is_valid_url(url):\n",
    "    try:\n",
    "        result = urlparse(url)\n",
    "        return all([result.scheme, result.netloc])\n",
    "    except ValueError:\n",
    "        return False\n",
    "\n",
    "url1 = \"https://www.example.com\"\n",
    "url2 = \"invalid-url\"\n",
    "result1 = is_valid_url(url1)\n",
    "result2 = is_valid_url(url2)\n",
    "print(result1)  \n",
    "print(result2)  "
   ]
  },
  {
   "cell_type": "code",
   "execution_count": null,
   "id": "da55d6b5-a1e5-4532-8199-966095b6a4e2",
   "metadata": {},
   "outputs": [],
   "source": [
    "#35. Extract the protocol (http or https) from a URL string.\n",
    "def extract_protocol(url):\n",
    "    \n",
    "    protocol_end = url.find(\"://\")\n",
    "\n",
    "    if protocol_end != -1:\n",
    "        \n",
    "        protocol = url[:protocol_end]\n",
    "        return protocol\n",
    "    else:\n",
    "        return None\n",
    "\n",
    "url1 = \"https://www.example.com\"\n",
    "url2 = \"http://google.com\"\n",
    "url3 = \"ftp://ftp.example.com\"\n",
    "\n",
    "protocol1 = extract_protocol(url1)\n",
    "protocol2 = extract_protocol(url2)\n",
    "protocol3 = extract_protocol(url3)\n",
    "\n",
    "print(\"Protocol 1:\", protocol1)\n",
    "print(\"Protocol 2:\", protocol2)\n",
    "print(\"Protocol 3:\", protocol3)"
   ]
  },
  {
   "cell_type": "code",
   "execution_count": null,
   "id": "7e5a8e13-7f6c-4618-b9ea-319a9925b291",
   "metadata": {},
   "outputs": [],
   "source": [
    "#36. Find the frequency of each character in a string.\n",
    "def character_frequency(input_string):\n",
    "    frequency = {}  \n",
    "\n",
    "    for char in input_string:\n",
    "        if char in frequency:\n",
    "            frequency[char] += 1 \n",
    "        else:\n",
    "            frequency[char] = 1  \n",
    "\n",
    "    return frequency\n",
    "\n",
    "input_str = \"hello world\"\n",
    "\n",
    "char_freq = character_frequency(input_str)\n",
    "\n",
    "for char, freq in char_freq.items():\n",
    "    print(f\"Character: '{char}', Frequency: {freq}\")"
   ]
  },
  {
   "cell_type": "code",
   "execution_count": null,
   "id": "dfdc7382-bdf3-49f1-9509-862c05aa4bc8",
   "metadata": {},
   "outputs": [],
   "source": [
    "#37. Remove all punctuation from a string.\n",
    "import string\n",
    "\n",
    "def remove_punctuation(input_string):\n",
    "    \n",
    "    translator = str.maketrans(\"\", \"\", string.punctuation)\n",
    "\n",
    "    clean_string = input_string.translate(translator)\n",
    "\n",
    "    return clean_string\n",
    "\n",
    "input_str = \"Hello, world! How's it going?\"\n",
    "\n",
    "cleaned_str = remove_punctuation(input_str)\n",
    "\n",
    "print(\"Original string:\", input_str)\n",
    "print(\"Cleaned string:\", cleaned_str)"
   ]
  },
  {
   "cell_type": "code",
   "execution_count": null,
   "id": "bd7a04b0-6adf-4daa-9fa0-02dc376b6b81",
   "metadata": {},
   "outputs": [],
   "source": [
    "#38. Check if a string contains only digits.\n",
    "def contains_only_digits(input_string):\n",
    "    \n",
    "    return input_string.isdigit()\n",
    "\n",
    "string1 = \"12345\"\n",
    "string2 = \"Hello123\"\n",
    "string3 = \"456.789\"\n",
    "\n",
    "result1 = contains_only_digits(string1)\n",
    "result2 = contains_only_digits(string2)\n",
    "result3 = contains_only_digits(string3)\n",
    "\n",
    "print(f\"'{string1}' contains only digits:\", result1)\n",
    "print(f\"'{string2}' contains only digits:\", result2)\n",
    "print(f\"'{string3}' contains only digits:\", result3)"
   ]
  },
  {
   "cell_type": "code",
   "execution_count": null,
   "id": "2032e106-1fad-4fd4-87bb-62322fe03266",
   "metadata": {},
   "outputs": [],
   "source": [
    "#39. Check if a string contains only alphabets.\n",
    "def contains_only_alphabets(input_string):\n",
    "    \n",
    "    return input_string.isalpha()\n",
    "\n",
    "string1 = \"Hello\"\n",
    "string2 = \"Hello123\"\n",
    "string3 = \"12345\"\n",
    "\n",
    "result1 = contains_only_alphabets(string1)\n",
    "result2 = contains_only_alphabets(string2)\n",
    "result3 = contains_only_alphabets(string3)\n",
    "\n",
    "print(f\"'{string1}' contains only alphabets:\", result1)\n",
    "print(f\"'{string2}' contains only alphabets:\", result2)\n",
    "print(f\"'{string3}' contains only alphabets:\", result3)"
   ]
  },
  {
   "cell_type": "code",
   "execution_count": null,
   "id": "22792538-6828-4c42-b39d-9c58dc2f547d",
   "metadata": {},
   "outputs": [],
   "source": [
    "#40. Convert a string to a list of characters.\n",
    "def string_to_list(input_string):\n",
    "   \n",
    "    char_list = list(input_string)\n",
    "    return char_list\n",
    "\n",
    "input_str = \"Hello, world!\"\n",
    "\n",
    "char_list = string_to_list(input_str)\n",
    "\n",
    "print(\"Original string:\", input_str)\n",
    "print(\"List of characters:\", char_list)"
   ]
  },
  {
   "cell_type": "code",
   "execution_count": null,
   "id": "c7767e8f-5a02-44bc-9e4c-1d408619fbcc",
   "metadata": {},
   "outputs": [],
   "source": [
    "#41. Check if two strings are anagrams.\n",
    "def are_anagrams(str1, str2):\n",
    "   \n",
    "    str1 = str1.replace(\" \", \"\").lower()\n",
    "    str2 = str2.replace(\" \", \"\").lower()\n",
    "\n",
    "    return sorted(str1) == sorted(str2)\n",
    "\n",
    "string1 = \"listen\"\n",
    "string2 = \"silent\"\n",
    "string3 = \"hello\"\n",
    "string4 = \"world\"\n",
    "\n",
    "result1 = are_anagrams(string1, string2)\n",
    "result2 = are_anagrams(string3, string4)\n",
    "\n",
    "print(f\"'{string1}' and '{string2}' are anagrams:\", result1)\n",
    "print(f\"'{string3}' and '{string4}' are anagrams:\", result2)"
   ]
  },
  {
   "cell_type": "code",
   "execution_count": 15,
   "id": "b0cb873d-2b7f-48c0-9ecf-18ade92423b7",
   "metadata": {},
   "outputs": [
    {
     "name": "stdout",
     "output_type": "stream",
     "text": [
      "Most frequent word: hello\n"
     ]
    }
   ],
   "source": [
    "#44. Find the most frequent word in a string.\n",
    "import re\n",
    "from collections import Counter\n",
    "\n",
    "def most_frequent_word(input_string):\n",
    "    \n",
    "    clean_string = re.sub(r'[^\\w\\s]', '', input_string).lower()\n",
    "\n",
    "    words = clean_string.split()\n",
    "\n",
    "    word_counter = Counter(words)\n",
    "\n",
    "    most_common_word = word_counter.most_common(1)[0][0]\n",
    "\n",
    "    return most_common_word\n",
    "\n",
    "input_str = \"Hello world, hello there! How's the world?\"\n",
    "\n",
    "most_common = most_frequent_word(input_str)\n",
    "\n",
    "print(\"Most frequent word:\", most_common)"
   ]
  },
  {
   "cell_type": "code",
   "execution_count": null,
   "id": "eca3d0f3-679d-4cb1-8cea-d4f41cd6b50c",
   "metadata": {},
   "outputs": [],
   "source": [
    "#45. Find all unique words in a string.\n",
    "import re\n",
    "\n",
    "def unique_words(input_string):\n",
    "    \n",
    "    clean_string = re.sub(r'[^\\w\\s]', '', input_string).lower()\n",
    "\n",
    "    words = set(clean_string.split())\n",
    "\n",
    "    return words\n",
    "\n",
    "\n",
    "input_str = \"Hello world, hello there! How's the world?\"\n",
    "\n",
    "unique_word_set = unique_words(input_str)\n",
    "\n",
    "print(\"Unique words:\", unique_word_set)"
   ]
  },
  {
   "cell_type": "code",
   "execution_count": null,
   "id": "9c051482-bb83-43f4-9755-7339f1f6b29e",
   "metadata": {},
   "outputs": [],
   "source": [
    "#46. Count the number of syllables in a string.\n",
    "import re\n",
    "\n",
    "def count_syllables(word):\n",
    "    \n",
    "    vowel_groups = re.findall(r'[aeiouy]+', word, re.IGNORECASE)\n",
    "\n",
    "    return len(vowel_groups)\n",
    "\n",
    "\n",
    "word1 = \"hello\"\n",
    "word2 = \"banana\"\n",
    "word3 = \"syllable\"\n",
    "\n",
    "\n",
    "syllables1 = count_syllables(word1)\n",
    "syllables2 = count_syllables(word2)\n",
    "syllables3 = count_syllables(word3)\n",
    "\n",
    "print(f\"'{word1}' has {syllables1} syllables.\")\n",
    "print(f\"'{word2}' has {syllables2} syllables.\")\n",
    "print(f\"'{word3}' has {syllables3} syllables.\")"
   ]
  },
  {
   "cell_type": "code",
   "execution_count": null,
   "id": "ea5926ed-a567-4d3d-837f-77ec51101a5d",
   "metadata": {},
   "outputs": [],
   "source": [
    "#47. Check if a string contains any special characters.\n",
    "import re\n",
    "\n",
    "def contains_special_characters(input_string):\n",
    "    \n",
    "    pattern = re.compile(r'[!@#$%^&*()_+{}\\[\\]:;<>,.?~\\\\/]')\n",
    "\n",
    "    match = pattern.search(input_string)\n",
    "\n",
    "    return bool(match)\n",
    "\n",
    "string1 = \"Hello, world!\"\n",
    "string2 = \"This is a test.\"\n",
    "string3 = \"Special@Characters\"\n",
    "\n",
    "result1 = contains_special_characters(string1)\n",
    "result2 = contains_special_characters(string2)\n",
    "result3 = contains_special_characters(string3)\n",
    "\n",
    "print(f\"'{string1}' contains special characters:\", result1)\n",
    "print(f\"'{string2}' contains special characters:\", result2)\n",
    "print(f\"'{string3}' contains special characters:\", result3)"
   ]
  },
  {
   "cell_type": "code",
   "execution_count": null,
   "id": "3ab4234f-c227-41bd-b08f-a794e83ccab8",
   "metadata": {},
   "outputs": [],
   "source": [
    "#48. Remove the nth word from a string.\n",
    "def remove_nth_word(input_string, n):\n",
    "   \n",
    "    words = input_string.split()\n",
    "\n",
    "    if n >= 1 and n <= len(words):\n",
    "       \n",
    "        removed_word = words.pop(n - 1)\n",
    "\n",
    "        modified_string = ' '.join(words)\n",
    "\n",
    "        return modified_string, removed_word\n",
    "    else:\n",
    "        return None, None\n",
    "\n",
    "\n",
    "input_str = \"This is an example sentence to test the function.\"\n",
    "n_value = 4\n",
    "\n",
    "modified_str, removed_word = remove_nth_word(input_str, n_value)\n",
    "\n",
    "print(\"Original string:\", input_str)\n",
    "if modified_str is not None:\n",
    "    print(\"Modified string:\", modified_str)\n",
    "    print(\"Removed word:\", removed_word)\n",
    "else:\n",
    "    print(\"Invalid n value.\")"
   ]
  },
  {
   "cell_type": "code",
   "execution_count": null,
   "id": "0e3ebdc5-8a77-4558-b877-5010b6252d1a",
   "metadata": {},
   "outputs": [],
   "source": [
    "#50. Convert a CSV string to a list of lists.\n",
    "def csv_string_to_list(csv_string):\n",
    "  \n",
    "    lines = csv_string.split('\\n')\n",
    "\n",
    "    result = []\n",
    "\n",
    "    for line in lines:\n",
    "        \n",
    "        fields = line.split(',')\n",
    "\n",
    "        result.append(fields)\n",
    "\n",
    "    return result\n",
    "\n",
    "csv_data = \"Name, Age, Country\\nJohn, 25, USA\\nAlice, 30, Canada\\nBob, 22, UK\"\n",
    "\n",
    "list_of_lists = csv_string_to_list(csv_data)\n",
    "\n",
    "for row in list_of_lists:\n",
    "    print(row)"
   ]
  }
 ],
 "metadata": {
  "kernelspec": {
   "display_name": "Python 3 (ipykernel)",
   "language": "python",
   "name": "python3"
  },
  "language_info": {
   "codemirror_mode": {
    "name": "ipython",
    "version": 3
   },
   "file_extension": ".py",
   "mimetype": "text/x-python",
   "name": "python",
   "nbconvert_exporter": "python",
   "pygments_lexer": "ipython3",
   "version": "3.10.8"
  }
 },
 "nbformat": 4,
 "nbformat_minor": 5
}
