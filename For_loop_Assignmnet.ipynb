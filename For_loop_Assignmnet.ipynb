{
 "cells": [
  {
   "cell_type": "code",
   "execution_count": 6,
   "id": "c241a22a-93b2-465f-bdc7-115ebc8a3a1e",
   "metadata": {},
   "outputs": [
    {
     "name": "stdout",
     "output_type": "stream",
     "text": [
      "1 2 3 4 5 6 7 8 9 10 "
     ]
    }
   ],
   "source": [
    "#1. Write a Python program to print the numbers from 1 to 10 using a `for` loop.\n",
    "\n",
    "for i in range(1,11):\n",
    "    print(i, end=\" \")\n",
    "    "
   ]
  },
  {
   "cell_type": "code",
   "execution_count": 7,
   "id": "d400a154-f10d-4fbb-b7e0-2f5c9d6b9fdf",
   "metadata": {},
   "outputs": [
    {
     "name": "stdout",
     "output_type": "stream",
     "text": [
      "15\n"
     ]
    }
   ],
   "source": [
    "#2. Create a program that calculates the sum of all numbers in a list using a `for` loop.\n",
    "\n",
    "list1=[1,2,3,4,5]\n",
    "s=0\n",
    "for x in list1:\n",
    "    s=s+x\n",
    "print(s)\n",
    "    "
   ]
  },
  {
   "cell_type": "code",
   "execution_count": 14,
   "id": "13875732-c22a-469c-8d74-369ca25d9560",
   "metadata": {},
   "outputs": [
    {
     "name": "stdin",
     "output_type": "stream",
     "text": [
      "enter a string to reverse praveen\n"
     ]
    },
    {
     "name": "stdout",
     "output_type": "stream",
     "text": [
      "n e e v a r p "
     ]
    }
   ],
   "source": [
    "#3. Write a program to print the characters of a string in reverse order using a `for` loop.\n",
    "S=input(\"enter a string to reverse\")\n",
    "\n",
    "for i in range(len(S),0,-1):\n",
    "    print(S[i-1] , end=\" \")"
   ]
  },
  {
   "cell_type": "code",
   "execution_count": 17,
   "id": "ddb8ac77-0adc-4a1f-8b45-51439cb8b17d",
   "metadata": {},
   "outputs": [
    {
     "name": "stdin",
     "output_type": "stream",
     "text": [
      "Enter a Number to find the factorial 5\n"
     ]
    },
    {
     "name": "stdout",
     "output_type": "stream",
     "text": [
      "The factorial of the Number5 is 120\n"
     ]
    }
   ],
   "source": [
    "#4. Develop a program that finds the factorial of a given number using a `for` loop.\n",
    "\n",
    "N=int(input(\"Enter a Number to find the factorial\"))\n",
    "S=1\n",
    "for i in range(1,N+1):\n",
    "    S=S*i\n",
    "print(f\"The factorial of the Number{N} is {S}\")\n",
    "    "
   ]
  },
  {
   "cell_type": "code",
   "execution_count": 19,
   "id": "5eac4327-cb27-4b3b-9816-032088834a08",
   "metadata": {},
   "outputs": [
    {
     "name": "stdin",
     "output_type": "stream",
     "text": [
      "Enter a Number to print the multiplication table 5\n"
     ]
    },
    {
     "name": "stdout",
     "output_type": "stream",
     "text": [
      "5 * 1 = 5\n",
      "5 * 2 = 10\n",
      "5 * 3 = 15\n",
      "5 * 4 = 20\n",
      "5 * 5 = 25\n",
      "5 * 6 = 30\n",
      "5 * 7 = 35\n",
      "5 * 8 = 40\n",
      "5 * 9 = 45\n",
      "5 * 10 = 50\n"
     ]
    }
   ],
   "source": [
    "#5. Create a program to print the multiplication table of a given number using a `for` loop.\n",
    "N=int(input(\"Enter a Number to print the multiplication table\"))\n",
    "\n",
    "for i in range(1,11):\n",
    "    print(f\"{N} * {i} = {N*i}\")\n"
   ]
  },
  {
   "cell_type": "code",
   "execution_count": 1,
   "id": "b73c6269-6f66-490f-8075-a303a7abc4be",
   "metadata": {},
   "outputs": [
    {
     "name": "stdin",
     "output_type": "stream",
     "text": [
      "Enter number of elements :  3\n",
      " 2\n",
      " 4\n",
      " 3\n"
     ]
    },
    {
     "name": "stdout",
     "output_type": "stream",
     "text": [
      "Even Numbers in the list is 2 and odd Numbers in the list is 1\n"
     ]
    }
   ],
   "source": [
    "#6. Write a program that counts the number of even and odd numbers in a list using a `for` loop.\n",
    "\n",
    "l = []\n",
    "\n",
    "n = int(input(\"Enter number of elements : \"))\n",
    " \n",
    "for i in range(0, n):\n",
    "    ele = int(input())\n",
    "    l.append(ele) \n",
    "E=0 \n",
    "O=0\n",
    "for i in l:\n",
    "    if i%2==0:\n",
    "        E= E+1\n",
    "    else:\n",
    "        O= O+1\n",
    "        \n",
    "print(f\"Even Numbers in the list is {E} and odd Numbers in the list is {O}\")"
   ]
  },
  {
   "cell_type": "code",
   "execution_count": 35,
   "id": "cc4552ca-52e0-4802-a076-25d270213b65",
   "metadata": {},
   "outputs": [
    {
     "name": "stdout",
     "output_type": "stream",
     "text": [
      "1\n",
      "4\n",
      "9\n",
      "16\n",
      "25\n"
     ]
    }
   ],
   "source": [
    "#7. Develop a program that prints the squares of numbers from 1 to 5 using a `for` loop.\n",
    "\n",
    "N=5\n",
    "for i in range(1,N+1):\n",
    "    print(i**2)"
   ]
  },
  {
   "cell_type": "code",
   "execution_count": 39,
   "id": "3d951f2f-93d8-475b-bc59-52b93334c8f3",
   "metadata": {},
   "outputs": [
    {
     "name": "stdin",
     "output_type": "stream",
     "text": [
      "Enter the string Praveen\n"
     ]
    },
    {
     "name": "stdout",
     "output_type": "stream",
     "text": [
      "Length of the string is 7\n"
     ]
    }
   ],
   "source": [
    "#8. Create a program to find the length of a string without using the `len()` function.\n",
    "\n",
    "S=input(\"Enter the string\")\n",
    "l=0\n",
    "for i in S:\n",
    "    l= l+1\n",
    "print(f\"Length of the string is {l}\")\n",
    "    "
   ]
  },
  {
   "cell_type": "code",
   "execution_count": 42,
   "id": "76a60837-da24-41c1-abc8-f8d10293eb99",
   "metadata": {},
   "outputs": [
    {
     "name": "stdin",
     "output_type": "stream",
     "text": [
      "Enter number of elements :  2\n",
      " 2\n",
      " 2\n"
     ]
    },
    {
     "name": "stdout",
     "output_type": "stream",
     "text": [
      "the Average of the kist of Numbers is 2\n"
     ]
    }
   ],
   "source": [
    "#9. Write a program that calculates the average of a list of numbers using a `for` loop.\n",
    "l = []\n",
    "\n",
    "n = int(input(\"Enter number of elements : \"))\n",
    "S=0\n",
    "for i in range(0, n):\n",
    "    ele = int(input())\n",
    "    S=S+ele\n",
    "    l.append(ele)\n",
    "print(f\"the Average of the kist of Numbers is {S/n}\")"
   ]
  },
  {
   "cell_type": "code",
   "execution_count": 49,
   "id": "d1a39d62-ca5a-4be9-88d9-9638db9a232d",
   "metadata": {},
   "outputs": [
    {
     "name": "stdin",
     "output_type": "stream",
     "text": [
      "Enter the number  5\n"
     ]
    },
    {
     "name": "stdout",
     "output_type": "stream",
     "text": [
      "[0, 1, 1, 2, 3]\n"
     ]
    }
   ],
   "source": [
    "#10. Develop a program that prints the first `n` Fibonacci numbers using a `for` loop.\n",
    "\n",
    "l=[0,1]\n",
    "n = int(input(\"Enter the number \"))\n",
    "for i in range(2,n):\n",
    "    l.append(l[i-1] +l[i-2])\n",
    "print(l[:n+1])\n"
   ]
  },
  {
   "cell_type": "code",
   "execution_count": 53,
   "id": "94816ea6-bce8-4d35-9bf8-d5dc2861470d",
   "metadata": {},
   "outputs": [
    {
     "name": "stdin",
     "output_type": "stream",
     "text": [
      "Enter number of elements :  5\n",
      " 1\n",
      " 2\n",
      " 1\n",
      " 3\n",
      " 4\n"
     ]
    },
    {
     "name": "stdout",
     "output_type": "stream",
     "text": [
      "The list Contains duplicate values\n"
     ]
    }
   ],
   "source": [
    "#11. Write a program to check if a given list contains any duplicates using a `for` loop.\n",
    "l = []\n",
    "\n",
    "n = int(input(\"Enter number of elements : \"))\n",
    " \n",
    "for i in range(0, n):\n",
    "    ele = input()\n",
    "    l.append(ele) \n",
    "D=0\n",
    "for i in range (len(l)):\n",
    "    for j in range(i+1, len(l)):\n",
    "        if l[i]==l[j]:\n",
    "            D=1\n",
    "    if(D==1):\n",
    "        print(\"The list Contains duplicate values\")\n",
    "        break\n",
    "      \n",
    "    "
   ]
  },
  {
   "cell_type": "code",
   "execution_count": 7,
   "id": "6fec80a8-6a2a-40a0-be03-8ab98720ff65",
   "metadata": {},
   "outputs": [
    {
     "name": "stdin",
     "output_type": "stream",
     "text": [
      "Enter the range:  10\n"
     ]
    },
    {
     "name": "stdout",
     "output_type": "stream",
     "text": [
      "2\n",
      "3\n",
      "5\n",
      "7\n"
     ]
    }
   ],
   "source": [
    "#12. Create a program that prints the prime numbers in a given range using a `for` loop.\n",
    "\n",
    "n = int(input(\"Enter the range: \"))\n",
    "for i in range(1,n+1):\n",
    "    flag = 0\n",
    "\n",
    "    if i == 1:\n",
    "        flag=1\n",
    "    elif i > 1:\n",
    "        for j in range(2, i):\n",
    "            if (i % j) == 0:\n",
    "                flag = 1\n",
    "                break\n",
    "    if(flag==0):\n",
    "        print(i)"
   ]
  },
  {
   "cell_type": "code",
   "execution_count": 22,
   "id": "5ef06352-e25b-4c57-a824-8d79902d040d",
   "metadata": {},
   "outputs": [
    {
     "name": "stdin",
     "output_type": "stream",
     "text": [
      "Enter the String  AEIOUaeioubcd\n"
     ]
    },
    {
     "name": "stdout",
     "output_type": "stream",
     "text": [
      "the count of vowels in the string is 10\n"
     ]
    }
   ],
   "source": [
    "#13. Develop a program that counts the number of vowels in a string using a `for` loop.\n",
    "n = input(\"Enter the String \")\n",
    "n=n.lower()\n",
    "c=0\n",
    "for x in n:\n",
    "    if (x == 'a' or x == 'e' or\n",
    "        x == 'i' or x == 'o' or x == 'u'):\n",
    "        c=c+1\n",
    "print(f\"the count of vowels in the string is {c}\")"
   ]
  },
  {
   "cell_type": "code",
   "execution_count": 28,
   "id": "a7b90673-47aa-4374-8d05-a46ab971d81e",
   "metadata": {},
   "outputs": [
    {
     "name": "stdout",
     "output_type": "stream",
     "text": [
      "The highest number in the 2D list is 9\n"
     ]
    }
   ],
   "source": [
    "#14. Write a program to find the maximum element in a 2D list using a nested `for` loop.\n",
    "\n",
    "l = [[1, 2, 3], [4, 5, 6], [7, 8, 9]]\n",
    "p=0\n",
    "for x in l:     \n",
    "        for i in x:\n",
    "            if(p<i):\n",
    "                p=i\n",
    "print(\"The highest number in the 2D list is \" + str(p))\n"
   ]
  },
  {
   "cell_type": "code",
   "execution_count": 30,
   "id": "a2c0a9b5-e0c6-4330-85fe-d356f63b19ee",
   "metadata": {},
   "outputs": [
    {
     "name": "stdin",
     "output_type": "stream",
     "text": [
      "Enter the element to be removed from the list 10\n"
     ]
    },
    {
     "name": "stdout",
     "output_type": "stream",
     "text": [
      "The list after removing the Element Specifies\n",
      "[20, 30, 40, 50]\n"
     ]
    }
   ],
   "source": [
    "#15. Create a program that removes all occurrences of a specific element from a list using a `for` loop.\n",
    "list1 = [10, 20, 10, 30, 10, 40, 10, 50]\n",
    "n=int(input(\"Enter the element to be removed from the list\"))\n",
    "\n",
    "for i in list1:\n",
    "    if(i==n):\n",
    "        list1.remove(i)\n",
    "print(\"The list after removing the Element Specifies\" )\n",
    "print(list1)"
   ]
  },
  {
   "cell_type": "code",
   "execution_count": 31,
   "id": "c413faf9-c9f7-4c70-a0d8-b488e5883ceb",
   "metadata": {},
   "outputs": [
    {
     "name": "stdout",
     "output_type": "stream",
     "text": [
      "1 * 1 = 1\n",
      "1 * 2 = 2\n",
      "1 * 3 = 3\n",
      "1 * 4 = 4\n",
      "1 * 5 = 5\n",
      "1 * 6 = 6\n",
      "1 * 7 = 7\n",
      "1 * 8 = 8\n",
      "1 * 9 = 9\n",
      "1 * 10 = 10\n",
      "2 * 1 = 2\n",
      "2 * 2 = 4\n",
      "2 * 3 = 6\n",
      "2 * 4 = 8\n",
      "2 * 5 = 10\n",
      "2 * 6 = 12\n",
      "2 * 7 = 14\n",
      "2 * 8 = 16\n",
      "2 * 9 = 18\n",
      "2 * 10 = 20\n",
      "3 * 1 = 3\n",
      "3 * 2 = 6\n",
      "3 * 3 = 9\n",
      "3 * 4 = 12\n",
      "3 * 5 = 15\n",
      "3 * 6 = 18\n",
      "3 * 7 = 21\n",
      "3 * 8 = 24\n",
      "3 * 9 = 27\n",
      "3 * 10 = 30\n",
      "4 * 1 = 4\n",
      "4 * 2 = 8\n",
      "4 * 3 = 12\n",
      "4 * 4 = 16\n",
      "4 * 5 = 20\n",
      "4 * 6 = 24\n",
      "4 * 7 = 28\n",
      "4 * 8 = 32\n",
      "4 * 9 = 36\n",
      "4 * 10 = 40\n",
      "5 * 1 = 5\n",
      "5 * 2 = 10\n",
      "5 * 3 = 15\n",
      "5 * 4 = 20\n",
      "5 * 5 = 25\n",
      "5 * 6 = 30\n",
      "5 * 7 = 35\n",
      "5 * 8 = 40\n",
      "5 * 9 = 45\n",
      "5 * 10 = 50\n"
     ]
    }
   ],
   "source": [
    "#16. Develop a program that generates a multiplication table for numbers from 1 to 5 using a nested `for` loop.\n",
    "\n",
    "for n in range(1,6):\n",
    "    for i in range(1,11):\n",
    "        print(f\"{n} * {i} = {n*i}\")\n"
   ]
  },
  {
   "cell_type": "code",
   "execution_count": 40,
   "id": "6efe5ea2-1a99-4901-8feb-caef09b7ce9a",
   "metadata": {},
   "outputs": [
    {
     "name": "stdout",
     "output_type": "stream",
     "text": [
      "Temperature in Celsius is: \n",
      "[10.0, 15.555555555555555, 21.11111111111111, 26.666666666666668, 32.22222222222222]\n"
     ]
    }
   ],
   "source": [
    "#17. Write a program that converts a list of Fahrenheit temperatures to Celsius using a `for` loop.\n",
    "Fahrenheit_list=[50,60,70,80,90]\n",
    "Celsius= list()\n",
    "for i in range (len(Fahrenheit_list)):\n",
    "    Celsius.append(((Fahrenheit_list[i]-32)*5)/9 )\n",
    "print(\"Temperature in Celsius is: \");  \n",
    "print(Celsius);  "
   ]
  },
  {
   "cell_type": "code",
   "execution_count": 43,
   "id": "9f7a1f81-d3a3-4252-9354-d4ba146f5661",
   "metadata": {},
   "outputs": [
    {
     "name": "stdout",
     "output_type": "stream",
     "text": [
      "2\n",
      "4\n",
      "6\n"
     ]
    }
   ],
   "source": [
    "#18. Create a program to print the common elements from two lists using a `for` loop.\n",
    "list1=[1,2,3,4,5,6]\n",
    "list2=[2,4,6,8,10]\n",
    "\n",
    "for i in list1:\n",
    "    if i in list2:\n",
    "        print(i)"
   ]
  },
  {
   "cell_type": "code",
   "execution_count": 51,
   "id": "d5671bf7-2aa0-4a97-b58a-265ba45b824e",
   "metadata": {},
   "outputs": [
    {
     "name": "stdout",
     "output_type": "stream",
     "text": [
      "* * * * * * \n",
      "  * * * * * \n",
      "    * * * * \n",
      "      * * * \n",
      "        * * \n",
      "          * \n"
     ]
    }
   ],
   "source": [
    "#19. Develop a program that prints the pattern of right-angled triangles using a `for` loop. Use ‘*’ to draw the pattern\n",
    "\n",
    "for i in range(6):\n",
    "    for j in range(6):\n",
    "        if(j<i):\n",
    "            print(\" \",end=\" \")\n",
    "        else:\n",
    "            print(\"*\",end=\" \")\n",
    "    print()"
   ]
  },
  {
   "cell_type": "code",
   "execution_count": 52,
   "id": "cb74f5b7-d42e-42ac-8d6c-c75cc7284191",
   "metadata": {},
   "outputs": [
    {
     "name": "stdout",
     "output_type": "stream",
     "text": [
      "GCD of 50 and 100 is: 50\n"
     ]
    }
   ],
   "source": [
    "#20. Write a program to find the greatest common divisor (GCD) of two numbers using a `for` loop.\n",
    "x = 50\n",
    "y = 100\n",
    "if x > y:\n",
    "  x, y = y, x\n",
    "for i in range(1,x+1):\n",
    "  if x%i == 0 and y%i == 0:\n",
    "    gcd = i\n",
    "\n",
    "print(\"GCD of\", x, \"and\", y, \"is:\", gcd)"
   ]
  },
  {
   "cell_type": "code",
   "execution_count": 53,
   "id": "cf41b1ee-e5d4-41c2-8398-6d2013c776a3",
   "metadata": {},
   "outputs": [
    {
     "name": "stdout",
     "output_type": "stream",
     "text": [
      "The original list is : [12, 67, 98, 34]\n",
      "List Integer Summation : [3, 13, 17, 7]\n"
     ]
    }
   ],
   "source": [
    "#21. Create a program that calculates the sum of the digits of numbers in a list using a list comprehension.\n",
    "\n",
    "test_list = [12, 67, 98, 34]\n",
    " \n",
    "print(\"The original list is : \" + str(test_list))\n",
    " \n",
    "res = []\n",
    "for ele in test_list:\n",
    "    sum = 0\n",
    "    for digit in str(ele):\n",
    "        sum += int(digit)\n",
    "    res.append(sum)\n",
    "     \n",
    "print (\"List Integer Summation : \" + str(res))"
   ]
  },
  {
   "cell_type": "code",
   "execution_count": 63,
   "id": "3f8520e8-f91a-4a12-b643-01fae85ec658",
   "metadata": {},
   "outputs": [
    {
     "name": "stdin",
     "output_type": "stream",
     "text": [
      "Enter the number 10\n"
     ]
    },
    {
     "name": "stdout",
     "output_type": "stream",
     "text": [
      "2\n",
      "5.0\n"
     ]
    }
   ],
   "source": [
    "#22. Write a program to find the prime factors of a given number using a `for` loop and list comprehension.\n",
    "import math\n",
    "n=int(input(\"Enter the number\"))\n",
    "while n % 2 == 0:\n",
    "    print(2)\n",
    "    n = n / 2\n",
    "         \n",
    "for i in range(3,int(math.sqrt(n))+1,2):\n",
    "         \n",
    "    while n % i== 0:\n",
    "            print(i)\n",
    "            n = n / i\n",
    "             \n",
    "if n > 2:\n",
    "    print(n)"
   ]
  },
  {
   "cell_type": "code",
   "execution_count": 70,
   "id": "1524140f-45ea-4453-a0e0-193fed12c9a6",
   "metadata": {},
   "outputs": [
    {
     "name": "stdout",
     "output_type": "stream",
     "text": [
      "The unique elementsin the list are  [1, 4, 5, 7]\n"
     ]
    }
   ],
   "source": [
    "#23. Develop a program that extracts unique elements from a list and stores them in a new list using a list comprehension.\n",
    "list1=[1,2,3,4,5,6,6,7,2,3]\n",
    "c=0\n",
    "list2=[]\n",
    "for i in list1:\n",
    "    for j in list1:\n",
    "        if i==j:\n",
    "            c=c+1\n",
    "    if(c==1):\n",
    "        list2.append(i)\n",
    "    c=0\n",
    "print(\"The unique elementsin the list are \" ,list2)"
   ]
  },
  {
   "cell_type": "code",
   "execution_count": 75,
   "id": "729c265e-0a3b-4098-983a-5b495359a5e2",
   "metadata": {},
   "outputs": [
    {
     "name": "stdin",
     "output_type": "stream",
     "text": [
      "Enter the Limit 300\n"
     ]
    },
    {
     "name": "stdout",
     "output_type": "stream",
     "text": [
      "['11', '22', '33', '44', '55', '66', '77', '88', '99', '101', '111', '121', '131', '141', '151', '161', '171', '181', '191', '202', '212', '222', '232', '242', '252', '262', '272', '282', '292']\n"
     ]
    }
   ],
   "source": [
    "# 24. Create a program that generates a list of all palindromic numbers up to a specified limit using a list comprehension.\n",
    "\n",
    "n=int(input(\"Enter the Limit\"))\n",
    "c = 0\n",
    "l=[]\n",
    "for i in range(10,n+1):\n",
    " \n",
    "    t = i\n",
    "    rev = 0\n",
    "    while t > 0:\n",
    "        rev = rev * 10 + t % 10\n",
    "        t = t // 10\n",
    " \n",
    "    if rev == i:\n",
    "        l.append(str(i))\n",
    "        c = c + 1\n",
    "print(l)"
   ]
  },
  {
   "cell_type": "code",
   "execution_count": 76,
   "id": "82c77494-cd85-4c9d-8825-baaaba20af78",
   "metadata": {},
   "outputs": [
    {
     "name": "stdout",
     "output_type": "stream",
     "text": [
      "[1, 2, 3, 4, 5, 6, 7]\n"
     ]
    }
   ],
   "source": [
    "#25. Write a program to flatten a nested list using list comprehension.\n",
    "\n",
    "my_list = [[1], [2, 3], [4, 5, 6, 7]]\n",
    "\n",
    "flat_list = [num for sublist in my_list for num in sublist]\n",
    "print(flat_list)"
   ]
  },
  {
   "cell_type": "code",
   "execution_count": 79,
   "id": "af474229-5c34-4b05-a4d6-062073a4fa89",
   "metadata": {},
   "outputs": [
    {
     "name": "stdout",
     "output_type": "stream",
     "text": [
      "The sum of odd numbers in the list 20\n",
      "The sum of even numbers in the list 25\n"
     ]
    }
   ],
   "source": [
    " #26. Develop a program that computes the sum of even and odd numbers in a list separately using list comprehension.\n",
    "l=[1,2,3,4,5,6,7,8,9]\n",
    "o=0\n",
    "e=0\n",
    "for i in l:\n",
    "    if i%2==0:\n",
    "        o+=i\n",
    "    else:\n",
    "        e+=i\n",
    "print(\"The sum of odd numbers in the list\"  , o)\n",
    "print(\"The sum of even numbers in the list\"  , e)"
   ]
  },
  {
   "cell_type": "code",
   "execution_count": 85,
   "id": "62866bb8-9682-43e8-8d2e-42c818221f4e",
   "metadata": {},
   "outputs": [
    {
     "name": "stdout",
     "output_type": "stream",
     "text": [
      "[1, 9, 25, 49, 81]\n"
     ]
    }
   ],
   "source": [
    "#27. Create a program that generates a list of squares of odd numbers between 1 and 10 using list comprehension.\n",
    "l=[(i*i) for i in range(1,11) if i%2!=0]\n",
    "print(l)"
   ]
  },
  {
   "cell_type": "code",
   "execution_count": 82,
   "id": "3ccef98f-4b48-4829-8cd8-86f1d65469f5",
   "metadata": {},
   "outputs": [
    {
     "name": "stdout",
     "output_type": "stream",
     "text": [
      "{1: 'python', 2: 'c', 3: 'c++'}\n"
     ]
    }
   ],
   "source": [
    "#28. Write a program that combines two lists into a dictionary using list comprehension.\n",
    "index = [1, 2, 3]\n",
    "languages = ['python', 'c', 'c++']\n",
    "\n",
    "dictionary = {k: v for k, v in zip(index, languages)}\n",
    "print(dictionary)"
   ]
  },
  {
   "cell_type": "code",
   "execution_count": 86,
   "id": "850f7a7c-97da-4d23-a2ad-d990616a86af",
   "metadata": {},
   "outputs": [
    {
     "name": "stdin",
     "output_type": "stream",
     "text": [
      "Enter the string aeiouyjugig\n"
     ]
    },
    {
     "name": "stdout",
     "output_type": "stream",
     "text": [
      "The extracted words : ['a', 'e', 'i', 'o', 'u', 'u', 'i']\n"
     ]
    }
   ],
   "source": [
    "#29. Develop a program that extracts the vowels from a string and stores them in a list using list comprehension.\n",
    "\n",
    "s=input(\"Enter the string\")\n",
    " \n",
    "res = [v for v in s if v in \"aeiouAEIOU\"]\n",
    " \n",
    "print(\"The extracted words : \" + str(res))"
   ]
  },
  {
   "cell_type": "code",
   "execution_count": 98,
   "id": "630dcf97-e3c3-475c-8208-cadb2d0f34e4",
   "metadata": {},
   "outputs": [
    {
     "name": "stdout",
     "output_type": "stream",
     "text": [
      "['1', '2', '3', '4']\n"
     ]
    }
   ],
   "source": [
    "#30. Create a program that removes all non-numeric characters from a list of strings using list comprehension.\n",
    "l=['python1','java2','c3','c++4']\n",
    "\n",
    "r=[] \n",
    "\n",
    "for i in l:\n",
    "    r.append(''.join(c for c in i if c.isdigit()))\n",
    "print(r)"
   ]
  },
  {
   "cell_type": "code",
   "execution_count": 1,
   "id": "6250fa31-f2ce-4a30-83f8-212403c32802",
   "metadata": {},
   "outputs": [
    {
     "name": "stdin",
     "output_type": "stream",
     "text": [
      "Enter the limit 50\n"
     ]
    },
    {
     "name": "stdout",
     "output_type": "stream",
     "text": [
      "2\n",
      "3\n",
      "5\n",
      "7\n",
      "11\n",
      "13\n",
      "17\n",
      "19\n",
      "23\n",
      "29\n",
      "31\n",
      "37\n",
      "41\n",
      "43\n",
      "47\n"
     ]
    }
   ],
   "source": [
    "#31. Write a program to generate a list of prime numbers using the Sieve of Eratosthenes algorithm and list comprehension.\n",
    "\n",
    "n=int(input(\"Enter the limit\"))\n",
    "\n",
    "prime_list = []\n",
    "for i in range(2, n+1):\n",
    "    if i not in prime_list:\n",
    "        print (i)\n",
    "        for j in range(i*i, n+1, i):\n",
    "            prime_list.append(j)\n"
   ]
  },
  {
   "cell_type": "code",
   "execution_count": 3,
   "id": "c0ad78f9-edff-4d36-90ce-1d88370613dd",
   "metadata": {},
   "outputs": [
    {
     "name": "stdin",
     "output_type": "stream",
     "text": [
      "Enter the limit: 50\n"
     ]
    },
    {
     "name": "stdout",
     "output_type": "stream",
     "text": [
      "3 4 5\n",
      "8 6 10\n",
      "5 12 13\n",
      "15 8 17\n",
      "12 16 20\n",
      "7 24 25\n",
      "24 10 26\n",
      "21 20 29\n",
      "16 30 34\n",
      "9 40 41\n"
     ]
    }
   ],
   "source": [
    "#32. Create a program that generates a list of all Pythagorean triplets up to a specified limit using list comprehension.\n",
    "\n",
    "limit=int(input(\"Enter the limit:\"))\n",
    "c=0\n",
    "m=2\n",
    "while(c<limit):\n",
    "    for n in range(1,m+1):\n",
    "        a=m*m-n*n\n",
    "        b=2*m*n\n",
    "        c=m*m+n*n\n",
    "        if(c>limit):\n",
    "            break\n",
    "        if(a==0 or b==0 or c==0):\n",
    "            break\n",
    "        print(a,b,c)\n",
    "    m=m+1"
   ]
  },
  {
   "cell_type": "code",
   "execution_count": 6,
   "id": "8e434129-5f62-437d-b0c7-3b12f75a524c",
   "metadata": {},
   "outputs": [
    {
     "name": "stdout",
     "output_type": "stream",
     "text": [
      "[('a', 1), ('a', 4), ('a', 9), ('a', 16), ('b', 1), ('b', 4), ('b', 9), ('b', 16), ('c', 1), ('c', 4), ('c', 9), ('c', 16), ('d', 1), ('d', 4), ('d', 9), ('d', 16)]\n"
     ]
    }
   ],
   "source": [
    "#33. Develop a program that generates a list of all possible combinations of two lists using list comprehension.\n",
    "list_1 = [\"a\",\"b\", \"c\", \"d\"]\n",
    "list_2 = [1, 4, 9,16]\n",
    " \n",
    "unique_combinations = []\n",
    " \n",
    "unique_combinations=[(list_1[i], list_2[j]) for i in range (len(list_1)) for j in range (len(list_2))]\n",
    "print(unique_combinations)"
   ]
  },
  {
   "cell_type": "code",
   "execution_count": 10,
   "id": "69d8fc41-8178-4d4b-8431-fda049f4b1ac",
   "metadata": {},
   "outputs": [
    {
     "name": "stdout",
     "output_type": "stream",
     "text": [
      "The mean or average of all these numbers ( [2, 3, 5, 7, 8] ) is 5.0\n",
      "The median of the given numbers  ( [2, 3, 5, 7, 8] ) is 5\n",
      "Mode(s) is/are :{8, 6}\n"
     ]
    }
   ],
   "source": [
    "#34. Write a program that calculates the mean, median, and mode of a list of numbers using list comprehension.\n",
    "\n",
    "num = [2, 3, 5, 7, 8]\n",
    "n = len(num)\n",
    "s = sum(num)\n",
    "mean = s / n\n",
    "\n",
    "num.sort()\n",
    "if n % 2 == 0:\n",
    "    median1 = num[n//2]\n",
    "    median2 = num[n//2 - 1]\n",
    "    median = (median1 + median2)/2\n",
    "else:\n",
    "    median = num[n//2]\n",
    "y= [11, 8, 8, 3, 4, 4, 5, 6, 6, 6, 7, 8]\n",
    "\n",
    "y.sort()\n",
    " \n",
    "L1=[]\n",
    " \n",
    "i = 0\n",
    "while i < len(y) :\n",
    "    L1.append(y.count(y[i]))\n",
    "    i += 1\n",
    "\n",
    "d1 = dict(zip(y, L1))\n",
    " \n",
    "d2={k for (k,v) in d1.items() if v == max(L1) }\n",
    " \n",
    "print(\"The mean or average of all these numbers (\", num, \") is\", str(mean))\n",
    "print(\"The median of the given numbers  (\", num, \") is\", str(median))\n",
    "print(\"Mode(s) is/are :\" + str(d2))"
   ]
  },
  {
   "cell_type": "code",
   "execution_count": 16,
   "id": "cefb0926-7c67-49f4-9985-3e29ac01b6d5",
   "metadata": {},
   "outputs": [
    {
     "name": "stdout",
     "output_type": "stream",
     "text": [
      "      1\n",
      "     1 1\n",
      "    1 2 1\n",
      "   1 3 3 1\n",
      "  1 4 6 4 1\n"
     ]
    }
   ],
   "source": [
    "#35. Create a program that generates Pascal's triangle up to a specified number of rows using list comprehension.\n",
    "\n",
    "n = 5\n",
    " \n",
    "for i in range(1, n+1):\n",
    "    for j in range(0, n-i+1):\n",
    "        print(' ', end='')\n",
    " \n",
    "    C = 1\n",
    "    for j in range(1, i+1):\n",
    " \n",
    "        print(' ', C, sep='', end='')\n",
    " \n",
    "        C = C * (i - j) // j\n",
    "    print()\n"
   ]
  },
  {
   "cell_type": "code",
   "execution_count": null,
   "id": "9941ad2a-8c70-4be2-b924-7fd15591004d",
   "metadata": {},
   "outputs": [],
   "source": [
    "#36. Develop a program that calculates the sum of the digits of a factorial of numbers from 1 to 5 using list comprehension.\n",
    "\n",
    "test_list=[]\n",
    "for i in range(1,6):\n",
    "    c=1\n",
    "    for j in range(1,i+1):\n",
    "        c=c*j\n",
    "    test_list.append(c)\n",
    "print(test_list)\n",
    " \n",
    "res = list(map(lambda ele: sum(int(sub) for sub in str(ele)), test_list))\n",
    "\n",
    "print (\"List Integer Summation : \" + str(res))"
   ]
  },
  {
   "cell_type": "code",
   "execution_count": 55,
   "id": "e443879b-a612-43df-9c0d-986ff7129ee1",
   "metadata": {},
   "outputs": [
    {
     "name": "stdin",
     "output_type": "stream",
     "text": [
      "Enter the sentence:  The sentencxe is entered\n"
     ]
    },
    {
     "name": "stdout",
     "output_type": "stream",
     "text": [
      "The longest word in the sentence :  sentencxe\n"
     ]
    }
   ],
   "source": [
    "#37. Write a program that finds the longest word in a sentence using list comprehension.\n",
    "\n",
    "sentence=input(\"Enter the sentence: \")\n",
    "\n",
    "longest = max(sentence.split(), key=len)\n",
    "print(\"The longest word in the sentence : \" , longest)"
   ]
  },
  {
   "cell_type": "code",
   "execution_count": null,
   "id": "351117aa-5d9c-412b-a1bb-a2f005fff311",
   "metadata": {},
   "outputs": [],
   "source": []
  },
  {
   "cell_type": "code",
   "execution_count": null,
   "id": "0157c32f-b425-4919-9a52-a729c63e77d8",
   "metadata": {},
   "outputs": [],
   "source": []
  },
  {
   "cell_type": "code",
   "execution_count": 48,
   "id": "cced43b8-54f6-4998-89f6-6093bf7031ab",
   "metadata": {},
   "outputs": [
    {
     "name": "stdin",
     "output_type": "stream",
     "text": [
      "Enter the sentence aaeeii uuooooiihh gfdttg hhhsjkb\n"
     ]
    },
    {
     "name": "stdout",
     "output_type": "stream",
     "text": [
      "['aaeeii', 'uuooooiihh']\n"
     ]
    }
   ],
   "source": [
    "#38. Create a program that filters a list of strings to include only those with more than three vowels using list comprehension.\n",
    "\n",
    "list1=input(\"Enter the sentence\")\n",
    "list1=list1.split()\n",
    "list2=[]\n",
    "for i in list1:\n",
    "    c=0\n",
    "    for j in i:\n",
    "        if j in \"aeiouAEIOU\":\n",
    "            c=c+1\n",
    "    if c>3:\n",
    "        list2.append(i)\n",
    "print(list2)"
   ]
  },
  {
   "cell_type": "code",
   "execution_count": 95,
   "id": "ea32f4d3-c867-49b2-a6ad-c3b1066e9383",
   "metadata": {},
   "outputs": [
    {
     "name": "stdout",
     "output_type": "stream",
     "text": [
      "List Integer Summation : 13501\n"
     ]
    }
   ],
   "source": [
    "#39. Develop a program that calculates the sum of the digits of numbers from 1 to 1000 using list comprehension.\n",
    "\n",
    "s=0                 \n",
    "for i in range(1,1001):\n",
    "    for j in str(i):\n",
    "        s=s+int(j)\n",
    "\n",
    "print (\"List Integer Summation : \" + str(s))"
   ]
  },
  {
   "cell_type": "code",
   "execution_count": 103,
   "id": "f258c84f-d4d9-4f4b-aabc-228cc49cb330",
   "metadata": {},
   "outputs": [
    {
     "name": "stdin",
     "output_type": "stream",
     "text": [
      "Enter the Limit 500\n"
     ]
    },
    {
     "name": "stdout",
     "output_type": "stream",
     "text": [
      "['11', '101', '131', '151', '181', '191', '313', '353', '373', '383']\n"
     ]
    }
   ],
   "source": [
    "#40. Write a program that generates a list of prime palindromic numbers using list comprehension.\n",
    "\n",
    "n=int(input(\"Enter the Limit\"))\n",
    "c = 0\n",
    "l=[]\n",
    "for i in range(10,n+1):\n",
    " \n",
    "    t = i\n",
    "    rev = 0\n",
    "    while t > 0:\n",
    "        rev = rev * 10 + t % 10\n",
    "        t = t // 10\n",
    " \n",
    "    if rev == i:\n",
    "        l.append(str(i))\n",
    "        c = c + 1\n",
    "list1=[]\n",
    "for i in l:\n",
    "    flag = 0\n",
    "\n",
    "    if i == \"1\":\n",
    "        flag=1\n",
    "    elif int(i) > 1:\n",
    "        for j in range(2, int(i)):\n",
    "            if (int(i) % j) == 0:\n",
    "                flag = 1\n",
    "                break\n",
    "    if(flag==0):\n",
    "        list1.append(i)\n",
    "print(list1)"
   ]
  }
 ],
 "metadata": {
  "kernelspec": {
   "display_name": "Python 3 (ipykernel)",
   "language": "python",
   "name": "python3"
  },
  "language_info": {
   "codemirror_mode": {
    "name": "ipython",
    "version": 3
   },
   "file_extension": ".py",
   "mimetype": "text/x-python",
   "name": "python",
   "nbconvert_exporter": "python",
   "pygments_lexer": "ipython3",
   "version": "3.10.8"
  }
 },
 "nbformat": 4,
 "nbformat_minor": 5
}
