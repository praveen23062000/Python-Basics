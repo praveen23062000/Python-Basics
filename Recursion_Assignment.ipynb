{
 "cells": [
  {
   "cell_type": "raw",
   "id": "ffa8bcc3-c01d-4f73-a9ff-99d3a75bdf58",
   "metadata": {},
   "source": [
    "1 . Can you explain the logic and working of the Tower of Hanoi algorithm by writing a Python program?\n",
    "How does the recursion work, and how are the movements of disks between rods accomplished?\n",
    "\n",
    "he Tower of Hanoi is a classic problem that involves moving a stack of disks from one rod to another, subject to the constraint that only one disk can be moved at a time, and a disk can only be placed on top of a larger disk or an empty rod. The problem can be solved using a recursive algorithm.\n",
    "\n",
    "Here's a simple Python program that implements the Tower of Hanoi algorithm:\n",
    "\n"
   ]
  },
  {
   "cell_type": "code",
   "execution_count": null,
   "id": "a2391f46-a354-4ce9-8a31-ea819978237d",
   "metadata": {},
   "outputs": [],
   "source": [
    "# python code\n",
    "\n",
    "def tower_of_hanoi(n, source_rod, target_rod, auxiliary_rod):\n",
    "    if n == 1:\n",
    "        print(f\"Move disk 1 from {source_rod} to {target_rod}\")\n",
    "        return\n",
    "    tower_of_hanoi(n-1, source_rod, auxiliary_rod, target_rod)\n",
    "    print(f\"Move disk {n} from {source_rod} to {target_rod}\")\n",
    "    tower_of_hanoi(n-1, auxiliary_rod, target_rod, source_rod)\n",
    "\n",
    "# Example usage\n",
    "num_disks = 3\n",
    "tower_of_hanoi(num_disks, 'A', 'C', 'B')"
   ]
  },
  {
   "cell_type": "raw",
   "id": "b6254305-f0a6-40a4-b3eb-5dcd18841ef1",
   "metadata": {},
   "source": [
    "Explanation:\n",
    "\n",
    "The tower_of_hanoi function takes four parameters: n (the number of disks), source_rod (the rod from which disks should be moved), target_rod (the rod to which disks should be moved), and auxiliary_rod (the auxiliary rod).\n",
    "\n",
    "The base case of the recursion is when n is 1, in which case it simply prints the move to transfer the single disk from the source rod to the target rod.\n",
    "\n",
    "In the recursive case (when n is greater than 1), the function first recursively moves n-1 disks from the source rod to the auxiliary rod using the target rod as the temporary rod.\n",
    "\n",
    "It then prints the move to transfer the remaining disk from the source rod to the target rod.\n",
    "\n",
    "Finally, it recursively moves the n-1 disks from the auxiliary rod to the target rod using the source rod as the temporary rod.\n",
    "\n",
    "The movements of disks between rods are accomplished through the recursive calls, and the algorithm ensures that the constraints of the Tower of Hanoi problem are adhered to, making it an elegant solution to the puzzle"
   ]
  },
  {
   "cell_type": "raw",
   "id": "94abe239-d7b8-42bd-ba54-4e0d2f581dea",
   "metadata": {},
   "source": [
    "Q.2 Given two strings word1 and word2, return the minimum number of operations required to convert word1\n",
    "to word2."
   ]
  },
  {
   "cell_type": "code",
   "execution_count": null,
   "id": "432bc17b-b3de-41fb-bb59-7b9f35846e41",
   "metadata": {},
   "outputs": [],
   "source": [
    "def min_operations(word1, word2):\n",
    "    len_word1, len_word2 = len(word1), len(word2)\n",
    "\n",
    "    # Initialize a 2D array to store the minimum operations\n",
    "    dp = [[0] * (len_word2 + 1) for _ in range(len_word1 + 1)]\n",
    "\n",
    "    # Fill in the base cases\n",
    "    for i in range(len_word1 + 1):\n",
    "        dp[i][0] = i\n",
    "    for j in range(len_word2 + 1):\n",
    "        dp[0][j] = j\n",
    "\n",
    "    # Fill in the rest of the array using dynamic programming\n",
    "    for i in range(1, len_word1 + 1):\n",
    "        for j in range(1, len_word2 + 1):\n",
    "            if word1[i - 1] == word2[j - 1]:\n",
    "                dp[i][j] = dp[i - 1][j - 1]\n",
    "            else:\n",
    "                dp[i][j] = 1 + min(dp[i - 1][j],       # Deletion\n",
    "                                  dp[i][j - 1],       # Insertion\n",
    "                                  dp[i - 1][j - 1])   # Replacement\n",
    "\n",
    "    # The bottom-right cell contains the minimum number of operations\n",
    "    return dp[len_word1][len_word2]\n",
    "\n",
    "# Example usage\n",
    "word1 = \"horse\"\n",
    "word2 = \"ros\"\n",
    "result = min_operations(word1, word2)\n",
    "print(f\"Minimum number of operations: {result}\")"
   ]
  },
  {
   "cell_type": "raw",
   "id": "5b78bae9-07ed-4b3a-9235-a2f01345ada0",
   "metadata": {},
   "source": [
    "Explanation:\n",
    "\n",
    "The function min_operations initializes a 2D array dp to store the minimum operations needed for substrings of word1 and word2.\n",
    "The base cases are filled in, where the number of operations to convert an empty string to a non-empty string or vice versa is the length of the non-empty string.\n",
    "The dynamic programming part fills in the rest of the array by considering three possible operations: deletion, insertion, and replacement.\n",
    "The bottom-right cell of the array contains the minimum number of operations needed to convert the entire word1 to word2.\n",
    "In the example provided, the function is called with word1 = \"horse\" and word2 = \"ros\". The result will be the minimum number of operations required to convert \"horse\" to \"ros\"."
   ]
  },
  {
   "cell_type": "code",
   "execution_count": null,
   "id": "3f1a0c1c-44d6-48ee-a852-3425c7145134",
   "metadata": {},
   "outputs": [],
   "source": [
    "# Q. 3 Print the max value of the array [ 13, 1, -3, 22, 5].\n",
    "\n",
    "def find_max(arr, n):\n",
    "    if n == 1:\n",
    "        return arr[0]\n",
    "    else:\n",
    "        return max(arr[n - 1], find_max(arr, n - 1))\n",
    "\n",
    "# Example usage\n",
    "arr = [13, 1, -3, 22, 5]\n",
    "max_value = find_max(arr, len(arr))\n",
    "\n",
    "print(f\"The maximum value in the array is: {max_value}\")\n",
    "\n",
    "# Explanation:\n",
    "\n",
    "# The find_max function takes two parameters: arr, the array, and n, the current size of the array.\n",
    "# The base case of the recursion is when the size of the array is 1. In this case, the function returns the only element in the array, which is the maximum value.\n",
    "# In the recursive case, the function compares the last element of the array (arr[n - 1]) with the maximum value of the rest of the array (find_max(arr, n - 1)), and returns the greater of the two."
   ]
  },
  {
   "cell_type": "code",
   "execution_count": null,
   "id": "b8ba36ba-19ec-467f-b0ab-e7d5d1f88aaa",
   "metadata": {},
   "outputs": [],
   "source": [
    "# Q.4 Find the sum of the values of the array [92, 23, 15, -20, 10].\n",
    "\n",
    "def array_sum(arr, n):\n",
    "    if n == 0:\n",
    "        return 0\n",
    "    else:\n",
    "        return arr[n - 1] + array_sum(arr, n - 1)\n",
    "\n",
    "# Example usage\n",
    "arr = [92, 23, 15, -20, 10]\n",
    "sum_values = array_sum(arr, len(arr))\n",
    "\n",
    "print(f\"The sum of the values in the array is: {sum_values}\")\n",
    "\n",
    "# Explanation:\n",
    "\n",
    "# The array_sum function takes two parameters: arr, the array, and n, the current size of the array.\n",
    "# The base case of the recursion is when the size of the array is 0. In this case, the function returns 0 as there are no elements to add.\n",
    "# In the recursive case, the function adds the last element of the array (arr[n - 1]) to the sum of the rest of the array (array_sum(arr, n - 1))."
   ]
  },
  {
   "cell_type": "code",
   "execution_count": null,
   "id": "c1f687d3-6bdc-4709-b07b-fa444ac27bc8",
   "metadata": {},
   "outputs": [],
   "source": [
    "# Q.5 Given a number n. Print if it is an armstrong number or not.An armstrong number is a number if the sum\n",
    "# of every digit in that number raised to the power of total digits in that number is equal to the number.\n",
    "\n",
    "def is_armstrong_number(n):\n",
    "    # Convert the number to a string to find the total number of digits\n",
    "    num_str = str(n)\n",
    "    num_digits = len(num_str)\n",
    "\n",
    "    # Calculate the sum of each digit raised to the power of the total digits\n",
    "    digit_sum = sum(int(digit) ** num_digits for digit in num_str)\n",
    "\n",
    "    # Check if the sum is equal to the original number\n",
    "    return digit_sum == n\n",
    "\n",
    "# Example usage\n",
    "number = int(input(\"Enter a number: \"))\n",
    "if is_armstrong_number(number):\n",
    "    print(f\"{number} is an Armstrong number.\")\n",
    "else:\n",
    "    print(f\"{number} is not an Armstrong number.\")\n",
    "    \n",
    "# Explanation:\n",
    "\n",
    "# The is_armstrong_number function takes an integer n as input.\n",
    "# It converts the number to a string to find the total number of digits.\n",
    "# It then calculates the sum of each digit raised to the power of the total number of digits using a list comprehension and the sum function.\n",
    "# Finally, it checks if the calculated sum is equal to the original number and returns True if they are equal, indicating that the number is an Armstrong number."
   ]
  }
 ],
 "metadata": {
  "kernelspec": {
   "display_name": "Python 3 (ipykernel)",
   "language": "python",
   "name": "python3"
  },
  "language_info": {
   "codemirror_mode": {
    "name": "ipython",
    "version": 3
   },
   "file_extension": ".py",
   "mimetype": "text/x-python",
   "name": "python",
   "nbconvert_exporter": "python",
   "pygments_lexer": "ipython3",
   "version": "3.10.8"
  }
 },
 "nbformat": 4,
 "nbformat_minor": 5
}
