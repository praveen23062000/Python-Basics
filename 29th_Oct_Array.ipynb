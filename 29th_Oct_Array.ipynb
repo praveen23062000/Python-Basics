{
 "cells": [
  {
   "cell_type": "code",
   "execution_count": 1,
   "id": "ab7ba2cf-d1c9-4a61-8668-45de7f6d577f",
   "metadata": {},
   "outputs": [
    {
     "name": "stdout",
     "output_type": "stream",
     "text": [
      "The array contains duplicates.\n"
     ]
    }
   ],
   "source": [
    "#Given an array, check if it contains any duplicates or not\n",
    "\n",
    "def has_duplicates(arr):\n",
    "    seen = set()\n",
    "    for element in arr:\n",
    "        if element in seen:\n",
    "            return True\n",
    "        seen.add(element)\n",
    "    return False\n",
    "\n",
    "arr = [1, 2, 4, 2, 5, 9]\n",
    "result = has_duplicates(arr)\n",
    "\n",
    "if result:\n",
    "    print(\"The array contains duplicates.\")\n",
    "else:\n",
    "    print(\"The array does not contain duplicates.\")"
   ]
  },
  {
   "cell_type": "code",
   "execution_count": 2,
   "id": "3e6ec650-9007-4d3e-b817-5ae7279f0bf4",
   "metadata": {},
   "outputs": [
    {
     "name": "stdout",
     "output_type": "stream",
     "text": [
      "Rotated array: [5, 6, 7, 1, 2, 3, 4]\n"
     ]
    }
   ],
   "source": [
    "#Given an array and an integer k, rotate the array to the right by k steps.\n",
    "\n",
    "def rotate_array(arr, k):\n",
    "    n = len(arr)\n",
    "    k = k % n  # Ensure k is within the range of array length\n",
    "\n",
    "    # Reverse the entire array\n",
    "    arr.reverse()\n",
    "\n",
    "    # Reverse the first k elements\n",
    "    arr[:k] = reversed(arr[:k])\n",
    "\n",
    "    # Reverse the remaining elements\n",
    "    arr[k:] = reversed(arr[k:])\n",
    "\n",
    "# Example usage\n",
    "arr = [1, 2, 3, 4, 5, 6, 7]\n",
    "k = 3\n",
    "rotate_array(arr, k)\n",
    "\n",
    "print(\"Rotated array:\", arr)\n",
    "\n",
    "\n"
   ]
  },
  {
   "cell_type": "code",
   "execution_count": 3,
   "id": "39549d90-3249-4a23-91dc-2cecb2a27f2c",
   "metadata": {},
   "outputs": [
    {
     "name": "stdout",
     "output_type": "stream",
     "text": [
      "Reversed array: [12, 9, 7, 5, 4, 2]\n"
     ]
    }
   ],
   "source": [
    "#Reverse the given array in-place, means without using any extra data structure.\n",
    "\n",
    "def reverse_array_in_place(arr):\n",
    "    start = 0\n",
    "    end = len(arr) - 1\n",
    "\n",
    "    while start < end:\n",
    "        # Swap elements at start and end indices\n",
    "        arr[start], arr[end] = arr[end], arr[start]\n",
    "\n",
    "        # Move the pointers towards each other\n",
    "        start += 1\n",
    "        end -= 1\n",
    "\n",
    "# Example usage\n",
    "arr = [2, 4, 5, 7, 9, 12]\n",
    "reverse_array_in_place(arr)\n",
    "\n",
    "print(\"Reversed array:\", arr)\n"
   ]
  },
  {
   "cell_type": "code",
   "execution_count": 4,
   "id": "f824003a-13d4-464f-ae34-460b5491b5ef",
   "metadata": {},
   "outputs": [
    {
     "name": "stdout",
     "output_type": "stream",
     "text": [
      "Maximum element: 20\n"
     ]
    }
   ],
   "source": [
    "#Given an array of integers, find the maximum element in an array\n",
    "\n",
    "def find_maximum(arr):\n",
    "    if not arr:\n",
    "        return None  # Return None for an empty array\n",
    "\n",
    "    max_element = arr[0]  # Initialize max_element with the first element\n",
    "\n",
    "    for element in arr:\n",
    "        if element > max_element:\n",
    "            max_element = element\n",
    "\n",
    "    return max_element\n",
    "\n",
    "# Example usage\n",
    "arr = [10, 5, 20, 8, 15]\n",
    "max_element = find_maximum(arr)\n",
    "\n",
    "print(\"Maximum element:\", max_element)\n"
   ]
  },
  {
   "cell_type": "code",
   "execution_count": null,
   "id": "ee0e8b2b-86ba-47c4-abcc-3868b08cc8c3",
   "metadata": {},
   "outputs": [],
   "source": [
    "#Given a sorted array, remove the duplicate element without using any extra data structure.\n",
    "\n",
    "def remove_duplicates(arr):\n",
    "    if not arr:\n",
    "        return 0  # Return 0 for an empty array\n",
    "\n",
    "    write_index = 1  # Index to write the next unique element\n",
    "\n",
    "    for i in range(1, len(arr)):\n",
    "        if arr[i] != arr[i - 1]:\n",
    "            arr[write_index] = arr[i]\n",
    "            write_index += 1\n",
    "\n",
    "    return write_index\n",
    "\n",
    "# Example usage\n",
    "arr = [1, 1, 2, 2, 2, 3, 3, 4, 4, 4, 5, 5]\n",
    "new_length = remove_duplicates(arr)\n",
    "\n",
    "print(\"Array after removing duplicates:\", arr[:new_length])\n"
   ]
  }
 ],
 "metadata": {
  "kernelspec": {
   "display_name": "Python 3 (ipykernel)",
   "language": "python",
   "name": "python3"
  },
  "language_info": {
   "codemirror_mode": {
    "name": "ipython",
    "version": 3
   },
   "file_extension": ".py",
   "mimetype": "text/x-python",
   "name": "python",
   "nbconvert_exporter": "python",
   "pygments_lexer": "ipython3",
   "version": "3.10.8"
  }
 },
 "nbformat": 4,
 "nbformat_minor": 5
}
