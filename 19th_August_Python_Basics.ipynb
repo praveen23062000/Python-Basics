{
 "cells": [
  {
   "cell_type": "markdown",
   "id": "c533837e-c2f1-4bb6-9096-847c267ad7c0",
   "metadata": {},
   "source": [
    "1. Declare two variables, x and y, and assign them integer values. Swap the values of these variables without using any temporary variable."
   ]
  },
  {
   "cell_type": "code",
   "execution_count": 5,
   "id": "d3ca020d-3ee1-4b8c-8b55-ea4cc0907d2b",
   "metadata": {},
   "outputs": [
    {
     "name": "stdout",
     "output_type": "stream",
     "text": [
      "Before swap x: 5 and y: 10\n",
      "After swap x: 10 and y: 5\n"
     ]
    }
   ],
   "source": [
    "#Declaring and initializing\n",
    "x = 5\n",
    "y = 10\n",
    "\n",
    "#Creating function \n",
    "def swap(x,y):\n",
    "  print(f\"Before swap x: {x} and y: {y}\")\n",
    "  x=x+y\n",
    "  y=x-y\n",
    "  x=x-y\n",
    "  print(f\"After swap x: {x} and y: {y}\")\n",
    "\n",
    "swap(x,y)"
   ]
  },
  {
   "cell_type": "markdown",
   "id": "e234a5af-0f37-45b0-8924-a971d2ddf7ee",
   "metadata": {},
   "source": [
    "2. Create a program that calculates the area of a rectangle. Take the length and width as inputs from the user and store them in variables. Calculate and display the area."
   ]
  },
  {
   "cell_type": "code",
   "execution_count": 6,
   "id": "87d9aa5b-6198-40bd-b57f-0ceffb2740fb",
   "metadata": {},
   "outputs": [
    {
     "name": "stdin",
     "output_type": "stream",
     "text": [
      "Enter the length of the rectangle:  5\n",
      "Enter the width of the rectangle:  6\n"
     ]
    },
    {
     "name": "stdout",
     "output_type": "stream",
     "text": [
      "The area of the rectangle is: 30.0\n"
     ]
    }
   ],
   "source": [
    "# Getting input from the user for length and width\n",
    "leng = float(input(\"Enter the length of the rectangle: \"))\n",
    "wid = float(input(\"Enter the width of the rectangle: \"))   \n",
    "\n",
    "# Calculate the area of the rectangle\n",
    "area = leng * wid\n",
    "\n",
    "# Display the area\n",
    "print(\"The area of the rectangle is:\", area) "
   ]
  },
  {
   "cell_type": "markdown",
   "id": "2f334e1a-881d-40e2-bfb1-f3c1b3d412ad",
   "metadata": {},
   "source": [
    "3. Write a Python program that converts temperatures from Celsius to Fahrenheit. Take the temperature in Celsius as input, store it in a variable, convert it to Fahrenheit, and display the result."
   ]
  },
  {
   "cell_type": "code",
   "execution_count": 8,
   "id": "3f7afcd0-5268-46bc-9d75-349f6269ec40",
   "metadata": {},
   "outputs": [
    {
     "name": "stdin",
     "output_type": "stream",
     "text": [
      "Enter temperature in Celsius:  56\n"
     ]
    },
    {
     "name": "stdout",
     "output_type": "stream",
     "text": [
      "56.0 Celsius is equal to 132.80 Fahrenheit\n"
     ]
    }
   ],
   "source": [
    "#  Get the temperature in Celsius \n",
    "celsius = float(input(\"Enter temperature in Celsius: \"))\n",
    "\n",
    "# Convert Celsius to Fahrenheit \n",
    "#formula: (C * 9/5) + 32\n",
    "fahrenheit = (celsius * 9/5) + 32\n",
    "\n",
    "# Display the Answer\n",
    "print(f\"{celsius} Celsius is equal to {fahrenheit:.2f} Fahrenheit\")"
   ]
  },
  {
   "cell_type": "markdown",
   "id": "01d90f98-83e9-438b-a92c-5b4f2f8408a7",
   "metadata": {},
   "source": [
    "1. Write a Python program that takes a string as input and prints the length of the string"
   ]
  },
  {
   "cell_type": "code",
   "execution_count": 9,
   "id": "c5b5a095-ee08-4906-aa15-f1878c38b4ad",
   "metadata": {},
   "outputs": [
    {
     "name": "stdin",
     "output_type": "stream",
     "text": [
      "Enter a string:  praven\n"
     ]
    },
    {
     "name": "stdout",
     "output_type": "stream",
     "text": [
      "The length of the input string is: 6\n"
     ]
    }
   ],
   "source": [
    "#  Get input from the user\n",
    "x = input(\"Enter a string: \")\n",
    "\n",
    "# Calculate the length \n",
    "length = len(x)\n",
    "\n",
    "# Print the length\n",
    "print(\"The length of the input string is:\", length)"
   ]
  },
  {
   "cell_type": "markdown",
   "id": "3e29b47c-8816-4015-9bc6-ca9fe42171e5",
   "metadata": {},
   "source": [
    "2. Create a program that takes a sentence from the user and counts the number of vowels (a, e, i, o, u) in the string."
   ]
  },
  {
   "cell_type": "code",
   "execution_count": 11,
   "id": "eac573d1-7b0f-436d-bf05-13359e714797",
   "metadata": {},
   "outputs": [
    {
     "name": "stdin",
     "output_type": "stream",
     "text": [
      "Enter a sentence:  aeiou jjj\n"
     ]
    },
    {
     "name": "stdout",
     "output_type": "stream",
     "text": [
      "Number of vowels: 5\n"
     ]
    }
   ],
   "source": [
    "# Get the input \n",
    "x = input(\"Enter a sentence: \")\n",
    "\n",
    "#Initialize a variable to count the vowels\n",
    "count = 0\n",
    "\n",
    "# Iterate and find the character in the sentence\n",
    "for char in x:\n",
    "    \n",
    "    char_lower = char.lower()\n",
    "\n",
    "    if char_lower in \"aeiou\":\n",
    "        \n",
    "        count += 1\n",
    "\n",
    "# Display the result\n",
    "print(\"Number of vowels:\", count)"
   ]
  },
  {
   "cell_type": "markdown",
   "id": "4a24aa84-8e5d-41ae-9a8e-2dbb50df331b",
   "metadata": {},
   "source": [
    "3. Given a string, reverse the order of characters using string slicing and print the reversed string."
   ]
  },
  {
   "cell_type": "code",
   "execution_count": 12,
   "id": "5f16360f-a058-4412-a7f5-586c38d97bbe",
   "metadata": {},
   "outputs": [
    {
     "name": "stdin",
     "output_type": "stream",
     "text": [
      "Enter a string:  praveen\n"
     ]
    },
    {
     "name": "stdout",
     "output_type": "stream",
     "text": [
      "Reversed string: neevarp\n"
     ]
    }
   ],
   "source": [
    "# Get the input \n",
    "input1 = input(\"Enter a string: \")\n",
    "\n",
    "# Reverse the string\n",
    "reversed1 = input1[::-1]\n",
    "\n",
    "# Print the Result\n",
    "print(\"Reversed string:\", reversed1)"
   ]
  },
  {
   "cell_type": "markdown",
   "id": "94ecb07e-bcd3-4aa6-b535-133ef8a96a2a",
   "metadata": {},
   "source": [
    "4. Write a program that takes a string as input and checks if it is a palindrome (reads the same forwards and backwards)."
   ]
  },
  {
   "cell_type": "code",
   "execution_count": 16,
   "id": "4f178e9a-c964-47a7-932d-42af725b341f",
   "metadata": {},
   "outputs": [
    {
     "name": "stdin",
     "output_type": "stream",
     "text": [
      "Enter a string:  f\n"
     ]
    },
    {
     "name": "stdout",
     "output_type": "stream",
     "text": [
      "The input string is a palindrome.\n"
     ]
    }
   ],
   "source": [
    "# Get the input \n",
    "input1 = input(\"Enter a string: \")\n",
    "\n",
    "#  Remove spaces\n",
    "input2 = input1.replace(\" \", \"\").lower()\n",
    "\n",
    "# Reverse the string\n",
    "reversed_string = input2[::-1]\n",
    "\n",
    "# print the result\n",
    "if input2 == reversed_string:\n",
    "    print(\"The input string is a palindrome.\")\n",
    "else:\n",
    "    print(\"The input string is not a palindrome.\")"
   ]
  },
  {
   "cell_type": "markdown",
   "id": "845b6bec-47bb-4f0f-91ca-3c0ce69f4fc9",
   "metadata": {},
   "source": [
    "5. Create a program that takes a string as input and removes all the spaces from it. Print the modified string without spaces."
   ]
  },
  {
   "cell_type": "code",
   "execution_count": 17,
   "id": "040dc20d-082e-488c-9286-913de8055f06",
   "metadata": {},
   "outputs": [
    {
     "name": "stdin",
     "output_type": "stream",
     "text": [
      "Enter a string:  aaa  bbb cc dd\n"
     ]
    },
    {
     "name": "stdout",
     "output_type": "stream",
     "text": [
      "String without spaces: aaabbbccdd\n"
     ]
    }
   ],
   "source": [
    "# Get the input \n",
    "input1 = input(\"Enter a string: \")\n",
    "\n",
    "new_string = \"\"\n",
    "\n",
    "# Iterate through each character in the input string\n",
    "for char in input1:\n",
    "    \n",
    "    if char != \" \":\n",
    "        new_string += char\n",
    "\n",
    "# Print the Result\n",
    "print(\"String without spaces:\", new_string)"
   ]
  },
  {
   "cell_type": "code",
   "execution_count": null,
   "id": "9d5504eb-1f1d-4b0c-bd2d-cedb544b9fb1",
   "metadata": {},
   "outputs": [],
   "source": []
  }
 ],
 "metadata": {
  "kernelspec": {
   "display_name": "Python 3 (ipykernel)",
   "language": "python",
   "name": "python3"
  },
  "language_info": {
   "codemirror_mode": {
    "name": "ipython",
    "version": 3
   },
   "file_extension": ".py",
   "mimetype": "text/x-python",
   "name": "python",
   "nbconvert_exporter": "python",
   "pygments_lexer": "ipython3",
   "version": "3.10.8"
  }
 },
 "nbformat": 4,
 "nbformat_minor": 5
}
